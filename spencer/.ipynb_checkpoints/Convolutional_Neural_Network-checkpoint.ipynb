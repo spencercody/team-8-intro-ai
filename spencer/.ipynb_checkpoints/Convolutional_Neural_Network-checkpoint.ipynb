{
  "cells": [
    {
      "cell_type": "markdown",
      "id": "2d68a0e6-ff9e-43fa-a614-62b3f9179ef2",
      "metadata": {
        "id": "2d68a0e6-ff9e-43fa-a614-62b3f9179ef2"
      },
      "source": [
        "#### imports"
      ]
    },
    {
      "cell_type": "code",
      "execution_count": 1,
      "id": "68390098-e141-4c7b-95d1-9644582d5223",
      "metadata": {
        "id": "68390098-e141-4c7b-95d1-9644582d5223"
      },
      "outputs": [],
      "source": [
        "import pandas as pd\n",
        "import numpy as np\n",
        "import seaborn as sns\n",
        "import matplotlib.pyplot as plt\n",
        "import os\n",
        "import re\n",
        "from pathlib import Path"
      ]
    },
    {
      "cell_type": "code",
      "source": [
        "from google.colab import drive\n",
        "drive.mount('/content/drive')"
      ],
      "metadata": {
        "colab": {
          "base_uri": "https://localhost:8080/",
          "height": 0
        },
        "id": "Dek-CqJ3-z2n",
        "outputId": "7597fe68-1c66-49d6-aa48-de298df25aab"
      },
      "id": "Dek-CqJ3-z2n",
      "execution_count": 2,
      "outputs": [
        {
          "output_type": "stream",
          "name": "stdout",
          "text": [
            "Mounted at /content/drive\n"
          ]
        }
      ]
    },
    {
      "cell_type": "code",
      "source": [
        "Path.cwd()"
      ],
      "metadata": {
        "id": "OLllI76A-_ML",
        "colab": {
          "base_uri": "https://localhost:8080/",
          "height": 0
        },
        "outputId": "4a6d0f7f-bd9d-42e9-a24b-f8fdbb5f4c1a"
      },
      "id": "OLllI76A-_ML",
      "execution_count": 3,
      "outputs": [
        {
          "output_type": "execute_result",
          "data": {
            "text/plain": [
              "PosixPath('/content')"
            ]
          },
          "metadata": {},
          "execution_count": 3
        }
      ]
    },
    {
      "cell_type": "code",
      "source": [
        "import sys\n",
        "sys.path.append(\"/content/drive/MyDrive/colab_notebooks\")"
      ],
      "metadata": {
        "id": "DHiq-ExOT3NZ"
      },
      "id": "DHiq-ExOT3NZ",
      "execution_count": 4,
      "outputs": []
    },
    {
      "cell_type": "code",
      "source": [
        "import utils as ut"
      ],
      "metadata": {
        "id": "04ls-6EDUAqj"
      },
      "id": "04ls-6EDUAqj",
      "execution_count": 5,
      "outputs": []
    },
    {
      "cell_type": "code",
      "execution_count": 46,
      "id": "6005f8d9-43eb-4c7f-803f-cd6c7b3dc544",
      "metadata": {
        "id": "6005f8d9-43eb-4c7f-803f-cd6c7b3dc544"
      },
      "outputs": [],
      "source": [
        "import keras\n",
        "from keras.models import Sequential\n",
        "from keras.layers import Dense, Conv2D, MaxPooling2D, Dropout, Flatten, Conv1D, MaxPooling1D\n",
        "import tensorflow as tf\n",
        "from sklearn.metrics import confusion_matrix,ConfusionMatrixDisplay\n",
        "from sklearn.preprocessing import MinMaxScaler\n",
        "from sklearn.model_selection import train_test_split\n",
        "from keras.models import load_model"
      ]
    },
    {
      "cell_type": "markdown",
      "id": "da09fc23-b6b1-406d-bb3a-6e74fdf85831",
      "metadata": {
        "id": "da09fc23-b6b1-406d-bb3a-6e74fdf85831"
      },
      "source": [
        "---"
      ]
    },
    {
      "cell_type": "markdown",
      "id": "83368990-2515-441d-96a1-43438f20826a",
      "metadata": {
        "id": "83368990-2515-441d-96a1-43438f20826a"
      },
      "source": [
        "#### Data Set"
      ]
    },
    {
      "cell_type": "markdown",
      "id": "76f3d854-2f60-470d-96b5-c12048fa1e85",
      "metadata": {
        "id": "76f3d854-2f60-470d-96b5-c12048fa1e85"
      },
      "source": [
        "https://www.stratosphereips.org/datasets-iot23"
      ]
    },
    {
      "cell_type": "markdown",
      "id": "3860d932-ec74-4e96-a537-e07f86031639",
      "metadata": {
        "id": "3860d932-ec74-4e96-a537-e07f86031639"
      },
      "source": [
        "---"
      ]
    },
    {
      "cell_type": "markdown",
      "id": "0b78e10e-e219-4e4e-b837-e1f6624394eb",
      "metadata": {
        "id": "0b78e10e-e219-4e4e-b837-e1f6624394eb"
      },
      "source": [
        "### Reading in the Data and reformatting it"
      ]
    },
    {
      "cell_type": "markdown",
      "source": [
        "Here we are reading in all the raw packet data that has been exported out into multiple csv files."
      ],
      "metadata": {
        "id": "Al1Ep69YlMTG"
      },
      "id": "Al1Ep69YlMTG"
    },
    {
      "cell_type": "code",
      "source": [
        "data_folder = Path(r'/content/drive/MyDrive/usd classes/intro to ai/Pcap Data Processed')"
      ],
      "metadata": {
        "id": "IrammdabN0q4"
      },
      "id": "IrammdabN0q4",
      "execution_count": 7,
      "outputs": []
    },
    {
      "cell_type": "code",
      "source": [
        "hex_dump_files = []\n",
        "label_files = []\n",
        "\n",
        "file_dic = {}\n",
        "\n",
        "for path in data_folder.iterdir():\n",
        "  file_name = path.name\n",
        "\n",
        "  if file_name.endswith('Hexdump.csv'):\n",
        "\n",
        "    file_tag = \"_\".join(file_name.split('_')[:2])\n",
        "\n",
        "    if file_tag not in file_dic:\n",
        "      file_dic[file_tag] = {}\n",
        "\n",
        "    file_dic[file_tag]['hex_file'] = path\n",
        "\n",
        "    #hex_dump_files.append(path)\n",
        "\n",
        "  if file_name.endswith('.labeled'):\n",
        "    file_tag = file_name.split('.')[0]\n",
        "    if file_tag not in file_dic:\n",
        "      file_dic[file_tag] = {}\n",
        "\n",
        "    file_dic[file_tag]['label_file'] = path\n",
        "\n",
        "    #label_files.append(path)"
      ],
      "metadata": {
        "id": "QfcEqpvFOL5i"
      },
      "id": "QfcEqpvFOL5i",
      "execution_count": 8,
      "outputs": []
    },
    {
      "cell_type": "code",
      "source": [
        "#merge_df.head()"
      ],
      "metadata": {
        "id": "unhQAN9zFPLT"
      },
      "id": "unhQAN9zFPLT",
      "execution_count": null,
      "outputs": []
    },
    {
      "cell_type": "code",
      "execution_count": 9,
      "id": "7bdc2f5a-9522-4e0c-af86-26ff38edc44f",
      "metadata": {
        "id": "7bdc2f5a-9522-4e0c-af86-26ff38edc44f"
      },
      "outputs": [],
      "source": [
        "hex_conversion = {\n",
        "    \"0\":0,\n",
        "    \"1\":1,\n",
        "    \"2\":2,\n",
        "    \"3\":3,\n",
        "    \"4\":4,\n",
        "    \"5\":5,\n",
        "    \"6\":6,\n",
        "    \"7\":7,\n",
        "    \"8\":8,\n",
        "    \"9\":9,\n",
        "    \"A\":10,\n",
        "    \"B\":11,\n",
        "    \"C\":12,\n",
        "    \"D\":13,\n",
        "    \"E\":14,\n",
        "    \"F\":15\n",
        "}"
      ]
    },
    {
      "cell_type": "code",
      "execution_count": 10,
      "id": "314d199d-428b-438b-b0df-cb6ec794809e",
      "metadata": {
        "id": "314d199d-428b-438b-b0df-cb6ec794809e"
      },
      "outputs": [],
      "source": [
        "def convert_hex_to_dec(hex_num:str)->int:\n",
        "    byte_d = 0\n",
        "\n",
        "    for i, b in enumerate(hex_num, 1):\n",
        "        decimal_position = len(hex_num) - i\n",
        "        b_to_d = hex_conversion[b]\n",
        "        value = b_to_d * 16**decimal_position\n",
        "        byte_d +=value\n",
        "\n",
        "    return int(byte_d)\n"
      ]
    },
    {
      "cell_type": "code",
      "execution_count": 11,
      "id": "c3c86710-ca0f-4a1b-a155-ebe634d3d3dd",
      "metadata": {
        "id": "c3c86710-ca0f-4a1b-a155-ebe634d3d3dd"
      },
      "outputs": [],
      "source": [
        "def get_byte_list(byte_str)->list:\n",
        "    real_byte = []\n",
        "\n",
        "    for byte in byte_str.split(' '):\n",
        "        match = re.match(r\"^[A-Fa-f0-9]+$\", byte)\n",
        "\n",
        "        if (len(byte) == 2) and match:\n",
        "\n",
        "            decimal_byte = convert_hex_to_dec(byte.upper())\n",
        "\n",
        "            real_byte.append(decimal_byte)\n",
        "\n",
        "    return real_byte"
      ]
    },
    {
      "cell_type": "code",
      "execution_count": 12,
      "id": "bc6b62d3-0053-478e-a32b-0237337d3d1a",
      "metadata": {
        "id": "bc6b62d3-0053-478e-a32b-0237337d3d1a"
      },
      "outputs": [],
      "source": [
        "def setup_raw_bytes_df(df:pd.DataFrame)->pd.DataFrame:\n",
        "    df_index_ts = []\n",
        "    list_of_lists = []\n",
        "\n",
        "\n",
        "    for ts, hexdump in zip(df.ts, df.hexdump):\n",
        "\n",
        "        df_index_ts.append(ts)\n",
        "        list_of_bytes = get_byte_list(hexdump)\n",
        "\n",
        "        list_of_lists.append(list_of_bytes)\n",
        "\n",
        "    raw_df = pd.DataFrame(index = df_index_ts, data = list_of_lists)\n",
        "    #raw_df = raw_df.astype(int)\n",
        "    raw_df['label'] = df.label.tolist()\n",
        "    raw_df = raw_df.reset_index().rename(columns = {'index':'ts'})\n",
        "\n",
        "    return raw_df"
      ]
    },
    {
      "cell_type": "code",
      "source": [
        "def combine_raw_and_labeled(\n",
        "    label_file_path: Path,\n",
        "    raw_file_path:Path\n",
        "  )-> pd.DataFrame:\n",
        "\n",
        "  label_df = ut.read_and_parse_label_file(label_file_path)\n",
        "  raw_packets = pd.read_csv(raw_file_path)\n",
        "\n",
        "  raw_packets.rename(columns = {'epoch_time': 'ts'}, inplace = True)\n",
        "  label_df['ts'] = label_df.ts.astype(float)\n",
        "\n",
        "  merge_df = raw_packets.merge(label_df,\n",
        "                  on = 'ts',\n",
        "                  how = 'outer',\n",
        "                  indicator = True\n",
        "                 )\n",
        "\n",
        "  complete_data_df = merge_df[merge_df._merge == 'both'].copy()\n",
        "\n",
        "  raw_df = setup_raw_bytes_df(complete_data_df)\n",
        "\n",
        "  return raw_df"
      ],
      "metadata": {
        "id": "ktUGtDCiGjQk"
      },
      "id": "ktUGtDCiGjQk",
      "execution_count": 13,
      "outputs": []
    },
    {
      "cell_type": "markdown",
      "source": [
        "Iterating through and reading in the first three captrure files."
      ],
      "metadata": {
        "id": "9CZuxeLsmEpu"
      },
      "id": "9CZuxeLsmEpu"
    },
    {
      "cell_type": "code",
      "source": [
        "all_combined_files = []\n",
        "\n",
        "for i, label_name in enumerate(file_dic):\n",
        "  if i < 3:\n",
        "    print(label_name)\n",
        "    one_dic = file_dic[label_name]\n",
        "    if 'label_file' and 'hex_file' in one_dic:\n",
        "      print('processing ', label_name)\n",
        "      label_file = one_dic['label_file']\n",
        "      hex_file = one_dic['hex_file']\n",
        "\n",
        "      comb_df = combine_raw_and_labeled(label_file_path=label_file,\n",
        "                                        raw_file_path=hex_file\n",
        "                                      )\n",
        "\n",
        "      comb_df['file_label'] = label_name\n",
        "      #comb_df.to_csv(f'raw_data/{label_name}_combined_data.csv', index = False)\n",
        "\n",
        "      all_combined_files.append(comb_df)\n",
        "      print('')"
      ],
      "metadata": {
        "id": "zKskCS0BHtNy",
        "colab": {
          "base_uri": "https://localhost:8080/",
          "height": 0
        },
        "outputId": "56f97a97-df5e-401b-9219-781e04b58946"
      },
      "id": "zKskCS0BHtNy",
      "execution_count": 14,
      "outputs": [
        {
          "output_type": "stream",
          "name": "stdout",
          "text": [
            "Malware_3\n",
            "processing  Malware_3\n"
          ]
        },
        {
          "output_type": "stream",
          "name": "stderr",
          "text": [
            "/content/drive/MyDrive/colab_notebooks/utils.py:5: DtypeWarning: Columns (0,3,5,14,16,17,18,19,21) have mixed types. Specify dtype option on import or set low_memory=False.\n",
            "  df = pd.read_csv(path_to_label_file,\n"
          ]
        },
        {
          "output_type": "stream",
          "name": "stdout",
          "text": [
            "\n",
            "Malware_1\n",
            "processing  Malware_1\n"
          ]
        },
        {
          "output_type": "stream",
          "name": "stderr",
          "text": [
            "/content/drive/MyDrive/colab_notebooks/utils.py:5: DtypeWarning: Columns (0,3,5,14,16,17,18,19,21) have mixed types. Specify dtype option on import or set low_memory=False.\n",
            "  df = pd.read_csv(path_to_label_file,\n"
          ]
        },
        {
          "output_type": "stream",
          "name": "stdout",
          "text": [
            "\n",
            "Malware_8\n",
            "processing  Malware_8\n",
            "\n"
          ]
        }
      ]
    },
    {
      "cell_type": "code",
      "source": [
        "all_data_df = pd.concat(all_combined_files)"
      ],
      "metadata": {
        "id": "FOK34gizIpST"
      },
      "id": "FOK34gizIpST",
      "execution_count": 15,
      "outputs": []
    },
    {
      "cell_type": "code",
      "source": [
        "save_csv_path = r'/content/drive/MyDrive/usd classes/intro to ai/truncated_1_170_000_initial_attempt_to_setup_data.csv'"
      ],
      "metadata": {
        "id": "BCS7FadrUw1T"
      },
      "id": "BCS7FadrUw1T",
      "execution_count": 16,
      "outputs": []
    },
    {
      "cell_type": "code",
      "execution_count": 17,
      "id": "78537828-8bee-4908-996c-4997e93e1ff8",
      "metadata": {
        "id": "78537828-8bee-4908-996c-4997e93e1ff8"
      },
      "outputs": [],
      "source": [
        "\n",
        "all_data_df.to_csv('/content/drive/MyDrive/usd classes/intro to ai/truncated_1_170_000_initial_attempt_to_setup_data.csv', index = False)"
      ]
    },
    {
      "cell_type": "code",
      "source": [
        "\n",
        "all_data_df['label'] = all_data_df.label.replace({' Benign':0,\n",
        "                          ' Malicious':1\n",
        "                         })\n",
        "\n",
        "all_data_df.fillna(int(0), inplace=True) # any NA values will be filled with zeros"
      ],
      "metadata": {
        "id": "Lr6_6aMyveKA",
        "colab": {
          "base_uri": "https://localhost:8080/",
          "height": 0
        },
        "outputId": "9599e241-fb12-4f8e-b6d9-30409c163e8b"
      },
      "id": "Lr6_6aMyveKA",
      "execution_count": 18,
      "outputs": [
        {
          "output_type": "stream",
          "name": "stderr",
          "text": [
            "<ipython-input-18-cd206d75aefb>:1: FutureWarning: Downcasting behavior in `replace` is deprecated and will be removed in a future version. To retain the old behavior, explicitly call `result.infer_objects(copy=False)`. To opt-in to the future behavior, set `pd.set_option('future.no_silent_downcasting', True)`\n",
            "  all_data_df['label'] = all_data_df.label.replace({' Benign':0,\n"
          ]
        }
      ]
    },
    {
      "cell_type": "markdown",
      "source": [
        "Setting aside validation data. That way we can pass a new capture file to the model that was not in the original training data."
      ],
      "metadata": {
        "id": "yH7TzOsTmd2H"
      },
      "id": "yH7TzOsTmd2H"
    },
    {
      "cell_type": "code",
      "source": [
        "validation_df = all_data_df[all_data_df.file_label == all_data_df.file_label.unique()[2]].copy()\n",
        "non_validation_df = all_data_df[all_data_df.file_label != all_data_df.file_label.unique()[2]].copy()\n",
        "\n"
      ],
      "metadata": {
        "id": "qpE_kUodkmsF"
      },
      "id": "qpE_kUodkmsF",
      "execution_count": 23,
      "outputs": []
    },
    {
      "cell_type": "markdown",
      "source": [
        "Setting up the data to be passed into the CNN"
      ],
      "metadata": {
        "id": "mksOgwHemWmJ"
      },
      "id": "mksOgwHemWmJ"
    },
    {
      "cell_type": "code",
      "source": [
        "len(validation_df)"
      ],
      "metadata": {
        "colab": {
          "base_uri": "https://localhost:8080/",
          "height": 0
        },
        "id": "4lGzvymvD9dI",
        "outputId": "802ab8e2-96ee-47af-a05f-6dca289252e0"
      },
      "id": "4lGzvymvD9dI",
      "execution_count": 24,
      "outputs": [
        {
          "output_type": "execute_result",
          "data": {
            "text/plain": [
              "10403"
            ]
          },
          "metadata": {},
          "execution_count": 24
        }
      ]
    },
    {
      "cell_type": "code",
      "execution_count": 25,
      "id": "d9059540-10bc-494b-bde9-f1f8092393f2",
      "metadata": {
        "id": "d9059540-10bc-494b-bde9-f1f8092393f2"
      },
      "outputs": [],
      "source": [
        "X = non_validation_df.drop(columns=['ts', 'label', 'file_label']).copy()\n",
        "y = non_validation_df.label\n",
        "\n"
      ]
    },
    {
      "cell_type": "markdown",
      "source": [
        "**Data Exploration**"
      ],
      "metadata": {
        "id": "mO_a3-rYm5IR"
      },
      "id": "mO_a3-rYm5IR"
    },
    {
      "cell_type": "code",
      "source": [
        "non_validation_df.label.value_counts() / len(non_validation_df)"
      ],
      "metadata": {
        "colab": {
          "base_uri": "https://localhost:8080/",
          "height": 178
        },
        "id": "hJ-e5Mv0bVJ6",
        "outputId": "fb93279c-5c5b-47b0-8720-b08e2e3370d9"
      },
      "id": "hJ-e5Mv0bVJ6",
      "execution_count": 26,
      "outputs": [
        {
          "output_type": "execute_result",
          "data": {
            "text/plain": [
              "label\n",
              "1    0.593243\n",
              "0    0.406757\n",
              "Name: count, dtype: float64"
            ],
            "text/html": [
              "<div>\n",
              "<style scoped>\n",
              "    .dataframe tbody tr th:only-of-type {\n",
              "        vertical-align: middle;\n",
              "    }\n",
              "\n",
              "    .dataframe tbody tr th {\n",
              "        vertical-align: top;\n",
              "    }\n",
              "\n",
              "    .dataframe thead th {\n",
              "        text-align: right;\n",
              "    }\n",
              "</style>\n",
              "<table border=\"1\" class=\"dataframe\">\n",
              "  <thead>\n",
              "    <tr style=\"text-align: right;\">\n",
              "      <th></th>\n",
              "      <th>count</th>\n",
              "    </tr>\n",
              "    <tr>\n",
              "      <th>label</th>\n",
              "      <th></th>\n",
              "    </tr>\n",
              "  </thead>\n",
              "  <tbody>\n",
              "    <tr>\n",
              "      <th>1</th>\n",
              "      <td>0.593243</td>\n",
              "    </tr>\n",
              "    <tr>\n",
              "      <th>0</th>\n",
              "      <td>0.406757</td>\n",
              "    </tr>\n",
              "  </tbody>\n",
              "</table>\n",
              "</div><br><label><b>dtype:</b> float64</label>"
            ]
          },
          "metadata": {},
          "execution_count": 26
        }
      ]
    },
    {
      "cell_type": "markdown",
      "source": [
        "Setting up the input and output data (X and y). Also scaling the the input data for both the training and validation data"
      ],
      "metadata": {
        "id": "w5LTMY94m-NN"
      },
      "id": "w5LTMY94m-NN"
    },
    {
      "cell_type": "code",
      "execution_count": 27,
      "id": "24c3d3b8-4153-4649-9de0-53fe0f1347b5",
      "metadata": {
        "id": "24c3d3b8-4153-4649-9de0-53fe0f1347b5"
      },
      "outputs": [],
      "source": [
        "X_val_add = validation_df.drop(columns=['ts', 'label', 'file_label']).copy()\n",
        "y_val_add = validation_df.label"
      ]
    },
    {
      "cell_type": "code",
      "execution_count": 28,
      "id": "fd649439-cbd5-42e7-b4dc-b7a78564b00f",
      "metadata": {
        "id": "fd649439-cbd5-42e7-b4dc-b7a78564b00f"
      },
      "outputs": [],
      "source": [
        "scaler = MinMaxScaler()\n",
        "scaler.fit(X_val_add)\n",
        "X_val_add_scaled = scaler.transform(X_val_add)"
      ]
    },
    {
      "cell_type": "code",
      "execution_count": 29,
      "id": "bcfa93f4-c6ef-49e1-9a0b-b6b2a0d28d58",
      "metadata": {
        "id": "bcfa93f4-c6ef-49e1-9a0b-b6b2a0d28d58",
        "colab": {
          "base_uri": "https://localhost:8080/",
          "height": 0
        },
        "outputId": "424940c1-7630-41ff-9b1e-eca9b7a51dec"
      },
      "outputs": [
        {
          "output_type": "execute_result",
          "data": {
            "text/plain": [
              "array([[0., 1., 0., ..., 0., 0., 0.],\n",
              "       [1., 0., 1., ..., 0., 0., 0.],\n",
              "       [0., 1., 0., ..., 0., 0., 0.],\n",
              "       ...,\n",
              "       [0., 1., 0., ..., 0., 0., 0.],\n",
              "       [0., 1., 0., ..., 0., 0., 0.],\n",
              "       [0., 1., 0., ..., 0., 0., 0.]])"
            ]
          },
          "metadata": {},
          "execution_count": 29
        }
      ],
      "source": [
        "X_val_add_scaled"
      ]
    },
    {
      "cell_type": "code",
      "execution_count": 30,
      "id": "c5ee010f-cefb-49a1-87c7-efe51c8f3941",
      "metadata": {
        "id": "c5ee010f-cefb-49a1-87c7-efe51c8f3941",
        "colab": {
          "base_uri": "https://localhost:8080/",
          "height": 236
        },
        "outputId": "e8ae5fd7-7c3a-4f35-a83c-2f06fcb4f4f1"
      },
      "outputs": [
        {
          "output_type": "execute_result",
          "data": {
            "text/plain": [
              "   0    1    2    3    4    5    6    7    8    9    ...  357  358  359  360  \\\n",
              "0  166  209  140   31  206  100  184   39  235  199  ...  0.0  0.0  0.0  0.0   \n",
              "1  166  209  140   31  206  100  184   39  235  199  ...  0.0  0.0  0.0  0.0   \n",
              "2  166  209  140   31  206  100  184   39  235  199  ...  0.0  0.0  0.0  0.0   \n",
              "3  184   39  235  199  233  201  166  209  140   31  ...  0.0  0.0  0.0  0.0   \n",
              "4  166  209  140   31  206  100  184   39  235  199  ...  0.0  0.0  0.0  0.0   \n",
              "\n",
              "   361  362  363  364  365  366  \n",
              "0  0.0  0.0  0.0  0.0  0.0  0.0  \n",
              "1  0.0  0.0  0.0  0.0  0.0  0.0  \n",
              "2  0.0  0.0  0.0  0.0  0.0  0.0  \n",
              "3  0.0  0.0  0.0  0.0  0.0  0.0  \n",
              "4  0.0  0.0  0.0  0.0  0.0  0.0  \n",
              "\n",
              "[5 rows x 367 columns]"
            ],
            "text/html": [
              "\n",
              "  <div id=\"df-a1cf8b27-e236-4a7a-909a-692255f1b732\" class=\"colab-df-container\">\n",
              "    <div>\n",
              "<style scoped>\n",
              "    .dataframe tbody tr th:only-of-type {\n",
              "        vertical-align: middle;\n",
              "    }\n",
              "\n",
              "    .dataframe tbody tr th {\n",
              "        vertical-align: top;\n",
              "    }\n",
              "\n",
              "    .dataframe thead th {\n",
              "        text-align: right;\n",
              "    }\n",
              "</style>\n",
              "<table border=\"1\" class=\"dataframe\">\n",
              "  <thead>\n",
              "    <tr style=\"text-align: right;\">\n",
              "      <th></th>\n",
              "      <th>0</th>\n",
              "      <th>1</th>\n",
              "      <th>2</th>\n",
              "      <th>3</th>\n",
              "      <th>4</th>\n",
              "      <th>5</th>\n",
              "      <th>6</th>\n",
              "      <th>7</th>\n",
              "      <th>8</th>\n",
              "      <th>9</th>\n",
              "      <th>...</th>\n",
              "      <th>357</th>\n",
              "      <th>358</th>\n",
              "      <th>359</th>\n",
              "      <th>360</th>\n",
              "      <th>361</th>\n",
              "      <th>362</th>\n",
              "      <th>363</th>\n",
              "      <th>364</th>\n",
              "      <th>365</th>\n",
              "      <th>366</th>\n",
              "    </tr>\n",
              "  </thead>\n",
              "  <tbody>\n",
              "    <tr>\n",
              "      <th>0</th>\n",
              "      <td>166</td>\n",
              "      <td>209</td>\n",
              "      <td>140</td>\n",
              "      <td>31</td>\n",
              "      <td>206</td>\n",
              "      <td>100</td>\n",
              "      <td>184</td>\n",
              "      <td>39</td>\n",
              "      <td>235</td>\n",
              "      <td>199</td>\n",
              "      <td>...</td>\n",
              "      <td>0.0</td>\n",
              "      <td>0.0</td>\n",
              "      <td>0.0</td>\n",
              "      <td>0.0</td>\n",
              "      <td>0.0</td>\n",
              "      <td>0.0</td>\n",
              "      <td>0.0</td>\n",
              "      <td>0.0</td>\n",
              "      <td>0.0</td>\n",
              "      <td>0.0</td>\n",
              "    </tr>\n",
              "    <tr>\n",
              "      <th>1</th>\n",
              "      <td>166</td>\n",
              "      <td>209</td>\n",
              "      <td>140</td>\n",
              "      <td>31</td>\n",
              "      <td>206</td>\n",
              "      <td>100</td>\n",
              "      <td>184</td>\n",
              "      <td>39</td>\n",
              "      <td>235</td>\n",
              "      <td>199</td>\n",
              "      <td>...</td>\n",
              "      <td>0.0</td>\n",
              "      <td>0.0</td>\n",
              "      <td>0.0</td>\n",
              "      <td>0.0</td>\n",
              "      <td>0.0</td>\n",
              "      <td>0.0</td>\n",
              "      <td>0.0</td>\n",
              "      <td>0.0</td>\n",
              "      <td>0.0</td>\n",
              "      <td>0.0</td>\n",
              "    </tr>\n",
              "    <tr>\n",
              "      <th>2</th>\n",
              "      <td>166</td>\n",
              "      <td>209</td>\n",
              "      <td>140</td>\n",
              "      <td>31</td>\n",
              "      <td>206</td>\n",
              "      <td>100</td>\n",
              "      <td>184</td>\n",
              "      <td>39</td>\n",
              "      <td>235</td>\n",
              "      <td>199</td>\n",
              "      <td>...</td>\n",
              "      <td>0.0</td>\n",
              "      <td>0.0</td>\n",
              "      <td>0.0</td>\n",
              "      <td>0.0</td>\n",
              "      <td>0.0</td>\n",
              "      <td>0.0</td>\n",
              "      <td>0.0</td>\n",
              "      <td>0.0</td>\n",
              "      <td>0.0</td>\n",
              "      <td>0.0</td>\n",
              "    </tr>\n",
              "    <tr>\n",
              "      <th>3</th>\n",
              "      <td>184</td>\n",
              "      <td>39</td>\n",
              "      <td>235</td>\n",
              "      <td>199</td>\n",
              "      <td>233</td>\n",
              "      <td>201</td>\n",
              "      <td>166</td>\n",
              "      <td>209</td>\n",
              "      <td>140</td>\n",
              "      <td>31</td>\n",
              "      <td>...</td>\n",
              "      <td>0.0</td>\n",
              "      <td>0.0</td>\n",
              "      <td>0.0</td>\n",
              "      <td>0.0</td>\n",
              "      <td>0.0</td>\n",
              "      <td>0.0</td>\n",
              "      <td>0.0</td>\n",
              "      <td>0.0</td>\n",
              "      <td>0.0</td>\n",
              "      <td>0.0</td>\n",
              "    </tr>\n",
              "    <tr>\n",
              "      <th>4</th>\n",
              "      <td>166</td>\n",
              "      <td>209</td>\n",
              "      <td>140</td>\n",
              "      <td>31</td>\n",
              "      <td>206</td>\n",
              "      <td>100</td>\n",
              "      <td>184</td>\n",
              "      <td>39</td>\n",
              "      <td>235</td>\n",
              "      <td>199</td>\n",
              "      <td>...</td>\n",
              "      <td>0.0</td>\n",
              "      <td>0.0</td>\n",
              "      <td>0.0</td>\n",
              "      <td>0.0</td>\n",
              "      <td>0.0</td>\n",
              "      <td>0.0</td>\n",
              "      <td>0.0</td>\n",
              "      <td>0.0</td>\n",
              "      <td>0.0</td>\n",
              "      <td>0.0</td>\n",
              "    </tr>\n",
              "  </tbody>\n",
              "</table>\n",
              "<p>5 rows × 367 columns</p>\n",
              "</div>\n",
              "    <div class=\"colab-df-buttons\">\n",
              "\n",
              "  <div class=\"colab-df-container\">\n",
              "    <button class=\"colab-df-convert\" onclick=\"convertToInteractive('df-a1cf8b27-e236-4a7a-909a-692255f1b732')\"\n",
              "            title=\"Convert this dataframe to an interactive table.\"\n",
              "            style=\"display:none;\">\n",
              "\n",
              "  <svg xmlns=\"http://www.w3.org/2000/svg\" height=\"24px\" viewBox=\"0 -960 960 960\">\n",
              "    <path d=\"M120-120v-720h720v720H120Zm60-500h600v-160H180v160Zm220 220h160v-160H400v160Zm0 220h160v-160H400v160ZM180-400h160v-160H180v160Zm440 0h160v-160H620v160ZM180-180h160v-160H180v160Zm440 0h160v-160H620v160Z\"/>\n",
              "  </svg>\n",
              "    </button>\n",
              "\n",
              "  <style>\n",
              "    .colab-df-container {\n",
              "      display:flex;\n",
              "      gap: 12px;\n",
              "    }\n",
              "\n",
              "    .colab-df-convert {\n",
              "      background-color: #E8F0FE;\n",
              "      border: none;\n",
              "      border-radius: 50%;\n",
              "      cursor: pointer;\n",
              "      display: none;\n",
              "      fill: #1967D2;\n",
              "      height: 32px;\n",
              "      padding: 0 0 0 0;\n",
              "      width: 32px;\n",
              "    }\n",
              "\n",
              "    .colab-df-convert:hover {\n",
              "      background-color: #E2EBFA;\n",
              "      box-shadow: 0px 1px 2px rgba(60, 64, 67, 0.3), 0px 1px 3px 1px rgba(60, 64, 67, 0.15);\n",
              "      fill: #174EA6;\n",
              "    }\n",
              "\n",
              "    .colab-df-buttons div {\n",
              "      margin-bottom: 4px;\n",
              "    }\n",
              "\n",
              "    [theme=dark] .colab-df-convert {\n",
              "      background-color: #3B4455;\n",
              "      fill: #D2E3FC;\n",
              "    }\n",
              "\n",
              "    [theme=dark] .colab-df-convert:hover {\n",
              "      background-color: #434B5C;\n",
              "      box-shadow: 0px 1px 3px 1px rgba(0, 0, 0, 0.15);\n",
              "      filter: drop-shadow(0px 1px 2px rgba(0, 0, 0, 0.3));\n",
              "      fill: #FFFFFF;\n",
              "    }\n",
              "  </style>\n",
              "\n",
              "    <script>\n",
              "      const buttonEl =\n",
              "        document.querySelector('#df-a1cf8b27-e236-4a7a-909a-692255f1b732 button.colab-df-convert');\n",
              "      buttonEl.style.display =\n",
              "        google.colab.kernel.accessAllowed ? 'block' : 'none';\n",
              "\n",
              "      async function convertToInteractive(key) {\n",
              "        const element = document.querySelector('#df-a1cf8b27-e236-4a7a-909a-692255f1b732');\n",
              "        const dataTable =\n",
              "          await google.colab.kernel.invokeFunction('convertToInteractive',\n",
              "                                                    [key], {});\n",
              "        if (!dataTable) return;\n",
              "\n",
              "        const docLinkHtml = 'Like what you see? Visit the ' +\n",
              "          '<a target=\"_blank\" href=https://colab.research.google.com/notebooks/data_table.ipynb>data table notebook</a>'\n",
              "          + ' to learn more about interactive tables.';\n",
              "        element.innerHTML = '';\n",
              "        dataTable['output_type'] = 'display_data';\n",
              "        await google.colab.output.renderOutput(dataTable, element);\n",
              "        const docLink = document.createElement('div');\n",
              "        docLink.innerHTML = docLinkHtml;\n",
              "        element.appendChild(docLink);\n",
              "      }\n",
              "    </script>\n",
              "  </div>\n",
              "\n",
              "\n",
              "<div id=\"df-6e56e408-2b9d-4786-a064-75f72c7e0cf3\">\n",
              "  <button class=\"colab-df-quickchart\" onclick=\"quickchart('df-6e56e408-2b9d-4786-a064-75f72c7e0cf3')\"\n",
              "            title=\"Suggest charts\"\n",
              "            style=\"display:none;\">\n",
              "\n",
              "<svg xmlns=\"http://www.w3.org/2000/svg\" height=\"24px\"viewBox=\"0 0 24 24\"\n",
              "     width=\"24px\">\n",
              "    <g>\n",
              "        <path d=\"M19 3H5c-1.1 0-2 .9-2 2v14c0 1.1.9 2 2 2h14c1.1 0 2-.9 2-2V5c0-1.1-.9-2-2-2zM9 17H7v-7h2v7zm4 0h-2V7h2v10zm4 0h-2v-4h2v4z\"/>\n",
              "    </g>\n",
              "</svg>\n",
              "  </button>\n",
              "\n",
              "<style>\n",
              "  .colab-df-quickchart {\n",
              "      --bg-color: #E8F0FE;\n",
              "      --fill-color: #1967D2;\n",
              "      --hover-bg-color: #E2EBFA;\n",
              "      --hover-fill-color: #174EA6;\n",
              "      --disabled-fill-color: #AAA;\n",
              "      --disabled-bg-color: #DDD;\n",
              "  }\n",
              "\n",
              "  [theme=dark] .colab-df-quickchart {\n",
              "      --bg-color: #3B4455;\n",
              "      --fill-color: #D2E3FC;\n",
              "      --hover-bg-color: #434B5C;\n",
              "      --hover-fill-color: #FFFFFF;\n",
              "      --disabled-bg-color: #3B4455;\n",
              "      --disabled-fill-color: #666;\n",
              "  }\n",
              "\n",
              "  .colab-df-quickchart {\n",
              "    background-color: var(--bg-color);\n",
              "    border: none;\n",
              "    border-radius: 50%;\n",
              "    cursor: pointer;\n",
              "    display: none;\n",
              "    fill: var(--fill-color);\n",
              "    height: 32px;\n",
              "    padding: 0;\n",
              "    width: 32px;\n",
              "  }\n",
              "\n",
              "  .colab-df-quickchart:hover {\n",
              "    background-color: var(--hover-bg-color);\n",
              "    box-shadow: 0 1px 2px rgba(60, 64, 67, 0.3), 0 1px 3px 1px rgba(60, 64, 67, 0.15);\n",
              "    fill: var(--button-hover-fill-color);\n",
              "  }\n",
              "\n",
              "  .colab-df-quickchart-complete:disabled,\n",
              "  .colab-df-quickchart-complete:disabled:hover {\n",
              "    background-color: var(--disabled-bg-color);\n",
              "    fill: var(--disabled-fill-color);\n",
              "    box-shadow: none;\n",
              "  }\n",
              "\n",
              "  .colab-df-spinner {\n",
              "    border: 2px solid var(--fill-color);\n",
              "    border-color: transparent;\n",
              "    border-bottom-color: var(--fill-color);\n",
              "    animation:\n",
              "      spin 1s steps(1) infinite;\n",
              "  }\n",
              "\n",
              "  @keyframes spin {\n",
              "    0% {\n",
              "      border-color: transparent;\n",
              "      border-bottom-color: var(--fill-color);\n",
              "      border-left-color: var(--fill-color);\n",
              "    }\n",
              "    20% {\n",
              "      border-color: transparent;\n",
              "      border-left-color: var(--fill-color);\n",
              "      border-top-color: var(--fill-color);\n",
              "    }\n",
              "    30% {\n",
              "      border-color: transparent;\n",
              "      border-left-color: var(--fill-color);\n",
              "      border-top-color: var(--fill-color);\n",
              "      border-right-color: var(--fill-color);\n",
              "    }\n",
              "    40% {\n",
              "      border-color: transparent;\n",
              "      border-right-color: var(--fill-color);\n",
              "      border-top-color: var(--fill-color);\n",
              "    }\n",
              "    60% {\n",
              "      border-color: transparent;\n",
              "      border-right-color: var(--fill-color);\n",
              "    }\n",
              "    80% {\n",
              "      border-color: transparent;\n",
              "      border-right-color: var(--fill-color);\n",
              "      border-bottom-color: var(--fill-color);\n",
              "    }\n",
              "    90% {\n",
              "      border-color: transparent;\n",
              "      border-bottom-color: var(--fill-color);\n",
              "    }\n",
              "  }\n",
              "</style>\n",
              "\n",
              "  <script>\n",
              "    async function quickchart(key) {\n",
              "      const quickchartButtonEl =\n",
              "        document.querySelector('#' + key + ' button');\n",
              "      quickchartButtonEl.disabled = true;  // To prevent multiple clicks.\n",
              "      quickchartButtonEl.classList.add('colab-df-spinner');\n",
              "      try {\n",
              "        const charts = await google.colab.kernel.invokeFunction(\n",
              "            'suggestCharts', [key], {});\n",
              "      } catch (error) {\n",
              "        console.error('Error during call to suggestCharts:', error);\n",
              "      }\n",
              "      quickchartButtonEl.classList.remove('colab-df-spinner');\n",
              "      quickchartButtonEl.classList.add('colab-df-quickchart-complete');\n",
              "    }\n",
              "    (() => {\n",
              "      let quickchartButtonEl =\n",
              "        document.querySelector('#df-6e56e408-2b9d-4786-a064-75f72c7e0cf3 button');\n",
              "      quickchartButtonEl.style.display =\n",
              "        google.colab.kernel.accessAllowed ? 'block' : 'none';\n",
              "    })();\n",
              "  </script>\n",
              "</div>\n",
              "\n",
              "    </div>\n",
              "  </div>\n"
            ],
            "application/vnd.google.colaboratory.intrinsic+json": {
              "type": "dataframe",
              "variable_name": "X"
            }
          },
          "metadata": {},
          "execution_count": 30
        }
      ],
      "source": [
        "X.head()"
      ]
    },
    {
      "cell_type": "code",
      "execution_count": 31,
      "id": "93993e5f-9d22-445a-9111-d36d0c25c820",
      "metadata": {
        "id": "93993e5f-9d22-445a-9111-d36d0c25c820",
        "colab": {
          "base_uri": "https://localhost:8080/",
          "height": 0
        },
        "outputId": "15767b7f-edf1-41ca-dc89-f466b4bb58e1"
      },
      "outputs": [
        {
          "output_type": "execute_result",
          "data": {
            "text/plain": [
              "(1164852, 367)"
            ]
          },
          "metadata": {},
          "execution_count": 31
        }
      ],
      "source": [
        "X.shape"
      ]
    },
    {
      "cell_type": "code",
      "execution_count": 32,
      "id": "c3ead580-5fd4-4696-b13a-b09e8e7e57f9",
      "metadata": {
        "id": "c3ead580-5fd4-4696-b13a-b09e8e7e57f9"
      },
      "outputs": [],
      "source": [
        "scaler = MinMaxScaler()\n",
        "scaler.fit(X)\n",
        "X_scaled = scaler.transform(X)"
      ]
    },
    {
      "cell_type": "code",
      "source": [],
      "metadata": {
        "id": "mO-Y8AuXDSB6"
      },
      "id": "mO-Y8AuXDSB6",
      "execution_count": 32,
      "outputs": []
    },
    {
      "cell_type": "code",
      "execution_count": 33,
      "id": "d8cb8aae-6e4c-4357-84f1-9fb59de7bcde",
      "metadata": {
        "id": "d8cb8aae-6e4c-4357-84f1-9fb59de7bcde"
      },
      "outputs": [],
      "source": [
        "# splitting our data into test and training\n",
        "X_train, X_test, y_train, y_test = train_test_split(X_scaled, y,\n",
        "                                                    test_size=0.2,\n",
        "                                                    random_state=37\n",
        "                                                   )"
      ]
    },
    {
      "cell_type": "code",
      "source": [
        "counts_df = pd.DataFrame(y_train.value_counts())"
      ],
      "metadata": {
        "id": "f9hz-ZqdBTfv"
      },
      "id": "f9hz-ZqdBTfv",
      "execution_count": 34,
      "outputs": []
    },
    {
      "cell_type": "code",
      "source": [
        "counts_df['proportion'] = round(counts_df['count'] / len(y_train), 3)"
      ],
      "metadata": {
        "id": "4iW_Czrlcwz5"
      },
      "id": "4iW_Czrlcwz5",
      "execution_count": 35,
      "outputs": []
    },
    {
      "cell_type": "code",
      "source": [
        "counts_df.head()"
      ],
      "metadata": {
        "colab": {
          "base_uri": "https://localhost:8080/",
          "height": 143
        },
        "id": "kvv95tG1c6xF",
        "outputId": "26f88751-2438-4cdd-9eaa-99adce22b1cc"
      },
      "id": "kvv95tG1c6xF",
      "execution_count": 36,
      "outputs": [
        {
          "output_type": "execute_result",
          "data": {
            "text/plain": [
              "        count  proportion\n",
              "label                    \n",
              "1      552772       0.593\n",
              "0      379109       0.407"
            ],
            "text/html": [
              "\n",
              "  <div id=\"df-36f4477a-b1da-44fb-abbf-51c07a380e4f\" class=\"colab-df-container\">\n",
              "    <div>\n",
              "<style scoped>\n",
              "    .dataframe tbody tr th:only-of-type {\n",
              "        vertical-align: middle;\n",
              "    }\n",
              "\n",
              "    .dataframe tbody tr th {\n",
              "        vertical-align: top;\n",
              "    }\n",
              "\n",
              "    .dataframe thead th {\n",
              "        text-align: right;\n",
              "    }\n",
              "</style>\n",
              "<table border=\"1\" class=\"dataframe\">\n",
              "  <thead>\n",
              "    <tr style=\"text-align: right;\">\n",
              "      <th></th>\n",
              "      <th>count</th>\n",
              "      <th>proportion</th>\n",
              "    </tr>\n",
              "    <tr>\n",
              "      <th>label</th>\n",
              "      <th></th>\n",
              "      <th></th>\n",
              "    </tr>\n",
              "  </thead>\n",
              "  <tbody>\n",
              "    <tr>\n",
              "      <th>1</th>\n",
              "      <td>552772</td>\n",
              "      <td>0.593</td>\n",
              "    </tr>\n",
              "    <tr>\n",
              "      <th>0</th>\n",
              "      <td>379109</td>\n",
              "      <td>0.407</td>\n",
              "    </tr>\n",
              "  </tbody>\n",
              "</table>\n",
              "</div>\n",
              "    <div class=\"colab-df-buttons\">\n",
              "\n",
              "  <div class=\"colab-df-container\">\n",
              "    <button class=\"colab-df-convert\" onclick=\"convertToInteractive('df-36f4477a-b1da-44fb-abbf-51c07a380e4f')\"\n",
              "            title=\"Convert this dataframe to an interactive table.\"\n",
              "            style=\"display:none;\">\n",
              "\n",
              "  <svg xmlns=\"http://www.w3.org/2000/svg\" height=\"24px\" viewBox=\"0 -960 960 960\">\n",
              "    <path d=\"M120-120v-720h720v720H120Zm60-500h600v-160H180v160Zm220 220h160v-160H400v160Zm0 220h160v-160H400v160ZM180-400h160v-160H180v160Zm440 0h160v-160H620v160ZM180-180h160v-160H180v160Zm440 0h160v-160H620v160Z\"/>\n",
              "  </svg>\n",
              "    </button>\n",
              "\n",
              "  <style>\n",
              "    .colab-df-container {\n",
              "      display:flex;\n",
              "      gap: 12px;\n",
              "    }\n",
              "\n",
              "    .colab-df-convert {\n",
              "      background-color: #E8F0FE;\n",
              "      border: none;\n",
              "      border-radius: 50%;\n",
              "      cursor: pointer;\n",
              "      display: none;\n",
              "      fill: #1967D2;\n",
              "      height: 32px;\n",
              "      padding: 0 0 0 0;\n",
              "      width: 32px;\n",
              "    }\n",
              "\n",
              "    .colab-df-convert:hover {\n",
              "      background-color: #E2EBFA;\n",
              "      box-shadow: 0px 1px 2px rgba(60, 64, 67, 0.3), 0px 1px 3px 1px rgba(60, 64, 67, 0.15);\n",
              "      fill: #174EA6;\n",
              "    }\n",
              "\n",
              "    .colab-df-buttons div {\n",
              "      margin-bottom: 4px;\n",
              "    }\n",
              "\n",
              "    [theme=dark] .colab-df-convert {\n",
              "      background-color: #3B4455;\n",
              "      fill: #D2E3FC;\n",
              "    }\n",
              "\n",
              "    [theme=dark] .colab-df-convert:hover {\n",
              "      background-color: #434B5C;\n",
              "      box-shadow: 0px 1px 3px 1px rgba(0, 0, 0, 0.15);\n",
              "      filter: drop-shadow(0px 1px 2px rgba(0, 0, 0, 0.3));\n",
              "      fill: #FFFFFF;\n",
              "    }\n",
              "  </style>\n",
              "\n",
              "    <script>\n",
              "      const buttonEl =\n",
              "        document.querySelector('#df-36f4477a-b1da-44fb-abbf-51c07a380e4f button.colab-df-convert');\n",
              "      buttonEl.style.display =\n",
              "        google.colab.kernel.accessAllowed ? 'block' : 'none';\n",
              "\n",
              "      async function convertToInteractive(key) {\n",
              "        const element = document.querySelector('#df-36f4477a-b1da-44fb-abbf-51c07a380e4f');\n",
              "        const dataTable =\n",
              "          await google.colab.kernel.invokeFunction('convertToInteractive',\n",
              "                                                    [key], {});\n",
              "        if (!dataTable) return;\n",
              "\n",
              "        const docLinkHtml = 'Like what you see? Visit the ' +\n",
              "          '<a target=\"_blank\" href=https://colab.research.google.com/notebooks/data_table.ipynb>data table notebook</a>'\n",
              "          + ' to learn more about interactive tables.';\n",
              "        element.innerHTML = '';\n",
              "        dataTable['output_type'] = 'display_data';\n",
              "        await google.colab.output.renderOutput(dataTable, element);\n",
              "        const docLink = document.createElement('div');\n",
              "        docLink.innerHTML = docLinkHtml;\n",
              "        element.appendChild(docLink);\n",
              "      }\n",
              "    </script>\n",
              "  </div>\n",
              "\n",
              "\n",
              "<div id=\"df-2522640e-6b18-4757-a061-c741accfd5f2\">\n",
              "  <button class=\"colab-df-quickchart\" onclick=\"quickchart('df-2522640e-6b18-4757-a061-c741accfd5f2')\"\n",
              "            title=\"Suggest charts\"\n",
              "            style=\"display:none;\">\n",
              "\n",
              "<svg xmlns=\"http://www.w3.org/2000/svg\" height=\"24px\"viewBox=\"0 0 24 24\"\n",
              "     width=\"24px\">\n",
              "    <g>\n",
              "        <path d=\"M19 3H5c-1.1 0-2 .9-2 2v14c0 1.1.9 2 2 2h14c1.1 0 2-.9 2-2V5c0-1.1-.9-2-2-2zM9 17H7v-7h2v7zm4 0h-2V7h2v10zm4 0h-2v-4h2v4z\"/>\n",
              "    </g>\n",
              "</svg>\n",
              "  </button>\n",
              "\n",
              "<style>\n",
              "  .colab-df-quickchart {\n",
              "      --bg-color: #E8F0FE;\n",
              "      --fill-color: #1967D2;\n",
              "      --hover-bg-color: #E2EBFA;\n",
              "      --hover-fill-color: #174EA6;\n",
              "      --disabled-fill-color: #AAA;\n",
              "      --disabled-bg-color: #DDD;\n",
              "  }\n",
              "\n",
              "  [theme=dark] .colab-df-quickchart {\n",
              "      --bg-color: #3B4455;\n",
              "      --fill-color: #D2E3FC;\n",
              "      --hover-bg-color: #434B5C;\n",
              "      --hover-fill-color: #FFFFFF;\n",
              "      --disabled-bg-color: #3B4455;\n",
              "      --disabled-fill-color: #666;\n",
              "  }\n",
              "\n",
              "  .colab-df-quickchart {\n",
              "    background-color: var(--bg-color);\n",
              "    border: none;\n",
              "    border-radius: 50%;\n",
              "    cursor: pointer;\n",
              "    display: none;\n",
              "    fill: var(--fill-color);\n",
              "    height: 32px;\n",
              "    padding: 0;\n",
              "    width: 32px;\n",
              "  }\n",
              "\n",
              "  .colab-df-quickchart:hover {\n",
              "    background-color: var(--hover-bg-color);\n",
              "    box-shadow: 0 1px 2px rgba(60, 64, 67, 0.3), 0 1px 3px 1px rgba(60, 64, 67, 0.15);\n",
              "    fill: var(--button-hover-fill-color);\n",
              "  }\n",
              "\n",
              "  .colab-df-quickchart-complete:disabled,\n",
              "  .colab-df-quickchart-complete:disabled:hover {\n",
              "    background-color: var(--disabled-bg-color);\n",
              "    fill: var(--disabled-fill-color);\n",
              "    box-shadow: none;\n",
              "  }\n",
              "\n",
              "  .colab-df-spinner {\n",
              "    border: 2px solid var(--fill-color);\n",
              "    border-color: transparent;\n",
              "    border-bottom-color: var(--fill-color);\n",
              "    animation:\n",
              "      spin 1s steps(1) infinite;\n",
              "  }\n",
              "\n",
              "  @keyframes spin {\n",
              "    0% {\n",
              "      border-color: transparent;\n",
              "      border-bottom-color: var(--fill-color);\n",
              "      border-left-color: var(--fill-color);\n",
              "    }\n",
              "    20% {\n",
              "      border-color: transparent;\n",
              "      border-left-color: var(--fill-color);\n",
              "      border-top-color: var(--fill-color);\n",
              "    }\n",
              "    30% {\n",
              "      border-color: transparent;\n",
              "      border-left-color: var(--fill-color);\n",
              "      border-top-color: var(--fill-color);\n",
              "      border-right-color: var(--fill-color);\n",
              "    }\n",
              "    40% {\n",
              "      border-color: transparent;\n",
              "      border-right-color: var(--fill-color);\n",
              "      border-top-color: var(--fill-color);\n",
              "    }\n",
              "    60% {\n",
              "      border-color: transparent;\n",
              "      border-right-color: var(--fill-color);\n",
              "    }\n",
              "    80% {\n",
              "      border-color: transparent;\n",
              "      border-right-color: var(--fill-color);\n",
              "      border-bottom-color: var(--fill-color);\n",
              "    }\n",
              "    90% {\n",
              "      border-color: transparent;\n",
              "      border-bottom-color: var(--fill-color);\n",
              "    }\n",
              "  }\n",
              "</style>\n",
              "\n",
              "  <script>\n",
              "    async function quickchart(key) {\n",
              "      const quickchartButtonEl =\n",
              "        document.querySelector('#' + key + ' button');\n",
              "      quickchartButtonEl.disabled = true;  // To prevent multiple clicks.\n",
              "      quickchartButtonEl.classList.add('colab-df-spinner');\n",
              "      try {\n",
              "        const charts = await google.colab.kernel.invokeFunction(\n",
              "            'suggestCharts', [key], {});\n",
              "      } catch (error) {\n",
              "        console.error('Error during call to suggestCharts:', error);\n",
              "      }\n",
              "      quickchartButtonEl.classList.remove('colab-df-spinner');\n",
              "      quickchartButtonEl.classList.add('colab-df-quickchart-complete');\n",
              "    }\n",
              "    (() => {\n",
              "      let quickchartButtonEl =\n",
              "        document.querySelector('#df-2522640e-6b18-4757-a061-c741accfd5f2 button');\n",
              "      quickchartButtonEl.style.display =\n",
              "        google.colab.kernel.accessAllowed ? 'block' : 'none';\n",
              "    })();\n",
              "  </script>\n",
              "</div>\n",
              "\n",
              "    </div>\n",
              "  </div>\n"
            ],
            "application/vnd.google.colaboratory.intrinsic+json": {
              "type": "dataframe",
              "variable_name": "counts_df",
              "summary": "{\n  \"name\": \"counts_df\",\n  \"rows\": 2,\n  \"fields\": [\n    {\n      \"column\": \"label\",\n      \"properties\": {\n        \"dtype\": \"number\",\n        \"std\": 0,\n        \"min\": 0,\n        \"max\": 1,\n        \"num_unique_values\": 2,\n        \"samples\": [\n          0,\n          1\n        ],\n        \"semantic_type\": \"\",\n        \"description\": \"\"\n      }\n    },\n    {\n      \"column\": \"count\",\n      \"properties\": {\n        \"dtype\": \"number\",\n        \"std\": 122798,\n        \"min\": 379109,\n        \"max\": 552772,\n        \"num_unique_values\": 2,\n        \"samples\": [\n          379109,\n          552772\n        ],\n        \"semantic_type\": \"\",\n        \"description\": \"\"\n      }\n    },\n    {\n      \"column\": \"proportion\",\n      \"properties\": {\n        \"dtype\": \"number\",\n        \"std\": 0.13152186130069785,\n        \"min\": 0.407,\n        \"max\": 0.593,\n        \"num_unique_values\": 2,\n        \"samples\": [\n          0.407,\n          0.593\n        ],\n        \"semantic_type\": \"\",\n        \"description\": \"\"\n      }\n    }\n  ]\n}"
            }
          },
          "metadata": {},
          "execution_count": 36
        }
      ]
    },
    {
      "cell_type": "code",
      "source": [
        "len(X_test)"
      ],
      "metadata": {
        "colab": {
          "base_uri": "https://localhost:8080/",
          "height": 0
        },
        "id": "Ag_hmmChBWoY",
        "outputId": "76ca68df-f7c2-47b7-85cb-47590e3701a1"
      },
      "id": "Ag_hmmChBWoY",
      "execution_count": 37,
      "outputs": [
        {
          "output_type": "execute_result",
          "data": {
            "text/plain": [
              "232971"
            ]
          },
          "metadata": {},
          "execution_count": 37
        }
      ]
    },
    {
      "cell_type": "markdown",
      "id": "aa10cd94-8500-4689-aab0-4f50bddea619",
      "metadata": {
        "id": "aa10cd94-8500-4689-aab0-4f50bddea619"
      },
      "source": [
        "### setting up the CNN model"
      ]
    },
    {
      "cell_type": "code",
      "execution_count": 38,
      "id": "53e3277d-0399-4838-a66d-3eedfc8056b9",
      "metadata": {
        "id": "53e3277d-0399-4838-a66d-3eedfc8056b9"
      },
      "outputs": [],
      "source": [
        "input_shape = X_train.shape[1]"
      ]
    },
    {
      "cell_type": "code",
      "execution_count": 39,
      "id": "e6bac160-a959-466c-80ff-3db6cd3aaf38",
      "metadata": {
        "id": "e6bac160-a959-466c-80ff-3db6cd3aaf38",
        "colab": {
          "base_uri": "https://localhost:8080/",
          "height": 0
        },
        "outputId": "46eeca8f-c5e9-4025-91dd-870c494f2c11"
      },
      "outputs": [
        {
          "output_type": "execute_result",
          "data": {
            "text/plain": [
              "367"
            ]
          },
          "metadata": {},
          "execution_count": 39
        }
      ],
      "source": [
        "input_shape"
      ]
    },
    {
      "cell_type": "code",
      "source": [
        "import torch\n",
        "assert torch.cuda.is_available(), \"GPU not available\""
      ],
      "metadata": {
        "id": "_TltszR4VUDD"
      },
      "id": "_TltszR4VUDD",
      "execution_count": 40,
      "outputs": []
    },
    {
      "cell_type": "code",
      "execution_count": 41,
      "id": "3e733bee-e686-4791-9031-7407a99f44a8",
      "metadata": {
        "id": "3e733bee-e686-4791-9031-7407a99f44a8",
        "colab": {
          "base_uri": "https://localhost:8080/",
          "height": 0
        },
        "outputId": "a49c4394-f8cb-424c-9363-6b89f6109f26"
      },
      "outputs": [
        {
          "output_type": "stream",
          "name": "stderr",
          "text": [
            "/usr/local/lib/python3.11/dist-packages/keras/src/layers/convolutional/base_conv.py:107: UserWarning: Do not pass an `input_shape`/`input_dim` argument to a layer. When using Sequential models, prefer using an `Input(shape)` object as the first layer in the model instead.\n",
            "  super().__init__(activity_regularizer=activity_regularizer, **kwargs)\n"
          ]
        }
      ],
      "source": [
        "model = Sequential()\n",
        "kernel = (3)\n",
        "model.add(Conv1D(32, kernel_size = kernel, activation = 'relu', input_shape=(input_shape,1)))\n",
        "model.add(Conv1D(64, kernel_size = kernel, activation = 'relu'))\n",
        "model.add(MaxPooling1D(pool_size=2))\n",
        "model.add(Dropout(0.25))\n",
        "\n",
        "model.add(Conv1D(64, kernel_size = kernel, activation = 'relu'))\n",
        "model.add(MaxPooling1D(pool_size=2))\n",
        "model.add(Dropout(0.25))\n",
        "\n",
        "model.add(Conv1D(128, kernel_size = kernel, activation = 'relu'))\n",
        "model.add(MaxPooling1D(pool_size=2))\n",
        "model.add(Dropout(0.25))\n",
        "\n",
        "model.add(Flatten()) # is this redundant lol\n",
        "model.add(Dense(64, activation = 'relu'))\n",
        "model.add(Dropout(0.5))\n",
        "model.add(Dense(1, activation='sigmoid'))\n"
      ]
    },
    {
      "cell_type": "code",
      "execution_count": 42,
      "id": "d5abaa2e-660f-438a-9f04-f7b832389c75",
      "metadata": {
        "id": "d5abaa2e-660f-438a-9f04-f7b832389c75"
      },
      "outputs": [],
      "source": [
        "adam = keras.optimizers.Adam(learning_rate=0.001)"
      ]
    },
    {
      "cell_type": "code",
      "execution_count": 43,
      "id": "480e5526-8cb9-4c34-bc03-711c416c29f7",
      "metadata": {
        "id": "480e5526-8cb9-4c34-bc03-711c416c29f7"
      },
      "outputs": [],
      "source": [
        "model.compile(loss='binary_crossentropy', optimizer=adam, metrics=[\"accuracy\"])"
      ]
    },
    {
      "cell_type": "markdown",
      "id": "bdb692fb-6028-4e6f-867f-7a122bb22852",
      "metadata": {
        "id": "bdb692fb-6028-4e6f-867f-7a122bb22852"
      },
      "source": [
        "### training the model"
      ]
    },
    {
      "cell_type": "code",
      "execution_count": null,
      "id": "e625178a-ed5e-4084-b5a4-ae19df02b3b8",
      "metadata": {
        "scrolled": true,
        "id": "e625178a-ed5e-4084-b5a4-ae19df02b3b8"
      },
      "outputs": [],
      "source": [
        "model_history = model.fit(X_train,\n",
        "                          y_train,\n",
        "                          batch_size=100,\n",
        "                          validation_split=.10,\n",
        "                          epochs = 50\n",
        "                          )"
      ]
    },
    {
      "cell_type": "code",
      "execution_count": 44,
      "id": "3a4d2e94-5736-4002-9db0-cdc7de68d1bf",
      "metadata": {
        "id": "3a4d2e94-5736-4002-9db0-cdc7de68d1bf"
      },
      "outputs": [],
      "source": [
        "model_path = \"/content/drive/MyDrive/usd classes/intro to ai/cnn_model_1_170_000_samples.keras\"\n",
        "\n"
      ]
    },
    {
      "cell_type": "code",
      "source": [
        "model.save(model_path)"
      ],
      "metadata": {
        "id": "-j4sc1jd4vs8"
      },
      "id": "-j4sc1jd4vs8",
      "execution_count": null,
      "outputs": []
    },
    {
      "cell_type": "code",
      "source": [
        "model_loaded = load_model(model_path)"
      ],
      "metadata": {
        "id": "u7AJVnQlASR8"
      },
      "id": "u7AJVnQlASR8",
      "execution_count": 47,
      "outputs": []
    },
    {
      "cell_type": "code",
      "source": [
        "model_history.history.keys()"
      ],
      "metadata": {
        "id": "HzoUjGhPigHG",
        "colab": {
          "base_uri": "https://localhost:8080/"
        },
        "outputId": "4a441534-c5cb-48fa-f88a-e2c935bcea3d"
      },
      "id": "HzoUjGhPigHG",
      "execution_count": null,
      "outputs": [
        {
          "output_type": "execute_result",
          "data": {
            "text/plain": [
              "dict_keys(['accuracy', 'loss', 'val_accuracy', 'val_loss'])"
            ]
          },
          "metadata": {},
          "execution_count": 40
        }
      ]
    },
    {
      "cell_type": "code",
      "source": [
        "x_axis = np.arange(1, 51, 1) # 50 epochs"
      ],
      "metadata": {
        "id": "YcX1MeKv2TgS"
      },
      "id": "YcX1MeKv2TgS",
      "execution_count": null,
      "outputs": []
    },
    {
      "cell_type": "code",
      "source": [
        "fig, ax = plt.subplots(2, figsize = (5,6), sharex=True)\n",
        "\n",
        "ax[0].plot(x_axis, model_history.history['accuracy'],\n",
        "         color = 'darkgreen',\n",
        "         label='accuracy'\n",
        "         )\n",
        "ax[0].plot(x_axis, model_history.history['val_accuracy'],\n",
        "         color = 'cornflowerblue',\n",
        "         label='validation\\naccuracy'\n",
        "         )\n",
        "ax[1].plot(x_axis, model_history.history['loss'],\n",
        "         color = 'orange',\n",
        "         label='loss'\n",
        "         )\n",
        "ax[1].plot(x_axis, model_history.history['val_loss'],\n",
        "         color = 'orangered',\n",
        "         label='validation\\nloss'\n",
        "         )\n",
        "ax[1].set_xlabel('epochs', fontsize=14)\n",
        "ax[0].legend(loc='center right')\n",
        "ax[1].legend(loc='center right')\n",
        "\n",
        "ax[0].set_aspect('auto')\n",
        "ax[1].set_aspect('auto')\n",
        "fig.suptitle('Model Training', fontsize=16)\n",
        "fig.patch.set_facecolor('lavender')\n",
        "plt.tight_layout()\n",
        "plt.savefig('cnn training.jpeg', dpi=600, bbox_inches='tight')"
      ],
      "metadata": {
        "colab": {
          "base_uri": "https://localhost:8080/"
        },
        "id": "xiPAC3vPyjVD",
        "outputId": "172d7cba-5b8d-4617-be20-b070e2731c42"
      },
      "id": "xiPAC3vPyjVD",
      "execution_count": null,
      "outputs": [
        {
          "output_type": "display_data",
          "data": {
            "text/plain": [
              "<Figure size 500x600 with 2 Axes>"
            ],
            "image/png": "[encoded data removed]"
          },
          "metadata": {}
        }
      ]
    },
    {
      "cell_type": "markdown",
      "id": "651ca8aa-66b7-4eec-b34e-ee48f9008019",
      "metadata": {
        "id": "651ca8aa-66b7-4eec-b34e-ee48f9008019"
      },
      "source": [
        "#### evaluating the model"
      ]
    },
    {
      "cell_type": "code",
      "execution_count": null,
      "id": "1096ad22-c5c6-4264-a214-0580ac71139f",
      "metadata": {
        "id": "1096ad22-c5c6-4264-a214-0580ac71139f",
        "colab": {
          "base_uri": "https://localhost:8080/"
        },
        "outputId": "db91bfc2-5edc-4111-cce3-01452d50fd5c"
      },
      "outputs": [
        {
          "output_type": "stream",
          "name": "stdout",
          "text": [
            "\u001b[1m7281/7281\u001b[0m \u001b[32m━━━━━━━━━━━━━━━━━━━━\u001b[0m\u001b[37m\u001b[0m \u001b[1m14s\u001b[0m 2ms/step - accuracy: 0.9972 - loss: 0.0147\n"
          ]
        }
      ],
      "source": [
        "loss_and_metrics = model_loaded.evaluate(X_test, y_test)"
      ]
    },
    {
      "cell_type": "code",
      "execution_count": null,
      "id": "669004a8-bb1f-46a0-86a6-097cdd64426e",
      "metadata": {
        "id": "669004a8-bb1f-46a0-86a6-097cdd64426e",
        "colab": {
          "base_uri": "https://localhost:8080/"
        },
        "outputId": "5ec61159-2bad-4749-93a8-3982bee5d93f"
      },
      "outputs": [
        {
          "output_type": "stream",
          "name": "stdout",
          "text": [
            "Loss = 0.014361095614731312\n",
            "Accuracy = 0.9972872138023376\n"
          ]
        }
      ],
      "source": [
        "print(f'Loss = {loss_and_metrics[0]}')\n",
        "print(f'Accuracy = {loss_and_metrics[1]}')"
      ]
    },
    {
      "cell_type": "code",
      "source": [
        "X_test.shape"
      ],
      "metadata": {
        "colab": {
          "base_uri": "https://localhost:8080/"
        },
        "id": "9gm9qGcgZXpF",
        "outputId": "4818a608-f530-43fc-faf8-08f2d26272a9"
      },
      "id": "9gm9qGcgZXpF",
      "execution_count": null,
      "outputs": [
        {
          "output_type": "execute_result",
          "data": {
            "text/plain": [
              "(232971, 367)"
            ]
          },
          "metadata": {},
          "execution_count": 151
        }
      ]
    },
    {
      "cell_type": "code",
      "source": [
        "y_test.shape"
      ],
      "metadata": {
        "colab": {
          "base_uri": "https://localhost:8080/"
        },
        "id": "mMWil1zyZZyy",
        "outputId": "f1b8ed1b-9a92-4ac2-b167-3c4cdcc05d09"
      },
      "id": "mMWil1zyZZyy",
      "execution_count": null,
      "outputs": [
        {
          "output_type": "execute_result",
          "data": {
            "text/plain": [
              "(232971,)"
            ]
          },
          "metadata": {},
          "execution_count": 150
        }
      ]
    },
    {
      "cell_type": "code",
      "execution_count": null,
      "id": "7742bec1-9400-422c-9d62-0de3d421677f",
      "metadata": {
        "id": "7742bec1-9400-422c-9d62-0de3d421677f",
        "colab": {
          "base_uri": "https://localhost:8080/"
        },
        "outputId": "2bd88e8b-673f-4446-c310-d63aed9064d4"
      },
      "outputs": [
        {
          "output_type": "stream",
          "name": "stdout",
          "text": [
            "\u001b[1m7281/7281\u001b[0m \u001b[32m━━━━━━━━━━━━━━━━━━━━\u001b[0m\u001b[37m\u001b[0m \u001b[1m11s\u001b[0m 1ms/step\n"
          ]
        }
      ],
      "source": [
        "predicted = model_loaded.predict(X_test)"
      ]
    },
    {
      "cell_type": "code",
      "execution_count": null,
      "id": "17f1eb6a-db2a-4935-b5e9-9128edeb1b00",
      "metadata": {
        "id": "17f1eb6a-db2a-4935-b5e9-9128edeb1b00",
        "outputId": "e034a9c4-3d6a-4c7d-c9da-eb8fe16bfb44",
        "colab": {
          "base_uri": "https://localhost:8080/",
          "height": 466
        }
      },
      "outputs": [
        {
          "output_type": "execute_result",
          "data": {
            "text/plain": [
              "<sklearn.metrics._plot.confusion_matrix.ConfusionMatrixDisplay at 0x7b6ae8c4fa10>"
            ]
          },
          "metadata": {},
          "execution_count": 55
        },
        {
          "output_type": "display_data",
          "data": {
            "text/plain": [
              "<Figure size 640x480 with 2 Axes>"
            ],
            "image/png": "[encoded data removed]"
          },
          "metadata": {}
        }
      ],
      "source": [
        "predicted = tf.squeeze(predicted)\n",
        "predicted = np.array([1 if x >= 0.5 else 0 for x in predicted])\n",
        "actual = np.array(y_test)\n",
        "conf_mat = confusion_matrix(actual, predicted)\n",
        "displ = ConfusionMatrixDisplay(confusion_matrix=conf_mat)\n",
        "displ.plot()"
      ]
    },
    {
      "cell_type": "markdown",
      "source": [
        "**New Capture File**"
      ],
      "metadata": {
        "id": "SV3lelTyC2MA"
      },
      "id": "SV3lelTyC2MA"
    },
    {
      "cell_type": "code",
      "source": [
        "X_val_add_scaled.shape"
      ],
      "metadata": {
        "colab": {
          "base_uri": "https://localhost:8080/"
        },
        "id": "Js1FUztcTnQ2",
        "outputId": "39c7bf74-22ca-4885-aac5-cf7ef1296201"
      },
      "id": "Js1FUztcTnQ2",
      "execution_count": null,
      "outputs": [
        {
          "output_type": "execute_result",
          "data": {
            "text/plain": [
              "(10403, 367)"
            ]
          },
          "metadata": {},
          "execution_count": 135
        }
      ]
    },
    {
      "cell_type": "code",
      "source": [
        "y_val_add.shape"
      ],
      "metadata": {
        "colab": {
          "base_uri": "https://localhost:8080/"
        },
        "id": "UVVcmZoxXPbN",
        "outputId": "cc5dd0f3-e764-43d8-a1b8-2bf8dbcf622f"
      },
      "id": "UVVcmZoxXPbN",
      "execution_count": null,
      "outputs": [
        {
          "output_type": "execute_result",
          "data": {
            "text/plain": [
              "(10403,)"
            ]
          },
          "metadata": {},
          "execution_count": 132
        }
      ]
    },
    {
      "cell_type": "code",
      "source": [
        "loss_and_metrics = model_loaded.evaluate(X_val_add_scaled, y_val_add)\n",
        "print(f'Loss = {loss_and_metrics[0]}')\n",
        "print(f'Accuracy = {loss_and_metrics[1]}')"
      ],
      "metadata": {
        "colab": {
          "base_uri": "https://localhost:8080/"
        },
        "id": "EpwPawSUDkg0",
        "outputId": "555f5bda-1078-49b9-9cdd-0d3413ab2479"
      },
      "id": "EpwPawSUDkg0",
      "execution_count": null,
      "outputs": [
        {
          "output_type": "stream",
          "name": "stdout",
          "text": [
            "\u001b[1m326/326\u001b[0m \u001b[32m━━━━━━━━━━━━━━━━━━━━\u001b[0m\u001b[37m\u001b[0m \u001b[1m1s\u001b[0m 3ms/step - accuracy: 1.0000 - loss: 0.0316\n",
            "Loss = 0.034200023859739304\n",
            "Accuracy = 1.0\n"
          ]
        }
      ]
    },
    {
      "cell_type": "code",
      "source": [
        "predicaiton_validation = model_loaded.predict(X_val_add_scaled)"
      ],
      "metadata": {
        "colab": {
          "base_uri": "https://localhost:8080/"
        },
        "id": "tok900sVC6js",
        "outputId": "4d1fa86b-291f-4792-b126-20ad6ec6dcfd"
      },
      "id": "tok900sVC6js",
      "execution_count": null,
      "outputs": [
        {
          "output_type": "stream",
          "name": "stdout",
          "text": [
            "\u001b[1m326/326\u001b[0m \u001b[32m━━━━━━━━━━━━━━━━━━━━\u001b[0m\u001b[37m\u001b[0m \u001b[1m1s\u001b[0m 2ms/step\n"
          ]
        }
      ]
    },
    {
      "cell_type": "code",
      "source": [
        "predicted = tf.squeeze(predicaiton_validation)\n",
        "predicted = np.array([1 if x >= 0.5 else 0 for x in predicted])\n",
        "actual = np.array(y_val_add)\n",
        "conf_mat = confusion_matrix(actual, predicted)\n",
        "displ = ConfusionMatrixDisplay(confusion_matrix=conf_mat)\n",
        "displ.plot()"
      ],
      "metadata": {
        "id": "mJVHR3UtLKY_",
        "colab": {
          "base_uri": "https://localhost:8080/",
          "height": 466
        },
        "outputId": "00485d56-53c4-4057-c215-c54086768791"
      },
      "id": "mJVHR3UtLKY_",
      "execution_count": null,
      "outputs": [
        {
          "output_type": "execute_result",
          "data": {
            "text/plain": [
              "<sklearn.metrics._plot.confusion_matrix.ConfusionMatrixDisplay at 0x7b6ae8fb8990>"
            ]
          },
          "metadata": {},
          "execution_count": 64
        },
        {
          "output_type": "display_data",
          "data": {
            "text/plain": [
              "<Figure size 640x480 with 2 Axes>"
            ],
            "image/png": "[encoded data removed]"
          },
          "metadata": {}
        }
      ]
    },
    {
      "cell_type": "markdown",
      "source": [
        "**Another validation on a new file**"
      ],
      "metadata": {
        "id": "i7jvkYBERcIY"
      },
      "id": "i7jvkYBERcIY"
    },
    {
      "cell_type": "code",
      "source": [
        "label_file = file_dic['Malware_20']['label_file']\n",
        "hex_file = file_dic['Malware_20']['hex_file']\n",
        "\n",
        "comb_df = combine_raw_and_labeled(label_file_path=label_file,\n",
        "                                        raw_file_path=hex_file\n",
        "                                      )"
      ],
      "metadata": {
        "id": "Ab5MDq7gRftU"
      },
      "id": "Ab5MDq7gRftU",
      "execution_count": null,
      "outputs": []
    },
    {
      "cell_type": "code",
      "source": [
        "comb_df = pd.concat([comb_df])"
      ],
      "metadata": {
        "id": "uE3_qd__Upzj"
      },
      "id": "uE3_qd__Upzj",
      "execution_count": null,
      "outputs": []
    },
    {
      "cell_type": "code",
      "source": [
        "comb_df['label'] = comb_df.label.replace({' Benign':0,\n",
        "                          ' Malicious':1\n",
        "                         })\n",
        "\n",
        "comb_df.fillna(int(0), inplace=True)"
      ],
      "metadata": {
        "colab": {
          "base_uri": "https://localhost:8080/"
        },
        "id": "SeY7oeh4R6AN",
        "outputId": "681b6ae7-7578-4229-b12a-d7b817ae1faf"
      },
      "id": "SeY7oeh4R6AN",
      "execution_count": null,
      "outputs": [
        {
          "output_type": "stream",
          "name": "stderr",
          "text": [
            "<ipython-input-169-48bcdf520963>:1: FutureWarning: Downcasting behavior in `replace` is deprecated and will be removed in a future version. To retain the old behavior, explicitly call `result.infer_objects(copy=False)`. To opt-in to the future behavior, set `pd.set_option('future.no_silent_downcasting', True)`\n",
            "  comb_df['label'] = comb_df.label.replace({' Benign':0,\n"
          ]
        }
      ]
    },
    {
      "cell_type": "code",
      "source": [
        "comb_df.label.unique()"
      ],
      "metadata": {
        "colab": {
          "base_uri": "https://localhost:8080/"
        },
        "id": "r24RtnaSSd9Z",
        "outputId": "af75dd23-549d-4cad-dc76-3d79e1a798b4"
      },
      "id": "r24RtnaSSd9Z",
      "execution_count": null,
      "outputs": [
        {
          "output_type": "execute_result",
          "data": {
            "text/plain": [
              "array([0, 1])"
            ]
          },
          "metadata": {},
          "execution_count": 170
        }
      ]
    },
    {
      "cell_type": "code",
      "source": [
        "comb_df.shape"
      ],
      "metadata": {
        "colab": {
          "base_uri": "https://localhost:8080/"
        },
        "id": "68ygzQCAb6Vq",
        "outputId": "3aad94cf-9df4-485e-862e-dade72efc4b2"
      },
      "id": "68ygzQCAb6Vq",
      "execution_count": null,
      "outputs": [
        {
          "output_type": "execute_result",
          "data": {
            "text/plain": [
              "(3209, 104)"
            ]
          },
          "metadata": {},
          "execution_count": 187
        }
      ]
    },
    {
      "cell_type": "code",
      "source": [
        "zero_df = pd.DataFrame(np.zeros((comb_df.shape[0], 265)))"
      ],
      "metadata": {
        "id": "TMsjDu1gb8zE"
      },
      "id": "TMsjDu1gb8zE",
      "execution_count": null,
      "outputs": []
    },
    {
      "cell_type": "code",
      "source": [
        "zero_df"
      ],
      "metadata": {
        "colab": {
          "base_uri": "https://localhost:8080/",
          "height": 424
        },
        "id": "vPSH6-XhcS4u",
        "outputId": "7b401108-5dbd-4592-8198-e2502f7ab116"
      },
      "id": "vPSH6-XhcS4u",
      "execution_count": null,
      "outputs": [
        {
          "output_type": "execute_result",
          "data": {
            "text/plain": [
              "      0    1    2    3    4    5    6    7    8    9    ...  255  256  257  \\\n",
              "0     0.0  0.0  0.0  0.0  0.0  0.0  0.0  0.0  0.0  0.0  ...  0.0  0.0  0.0   \n",
              "1     0.0  0.0  0.0  0.0  0.0  0.0  0.0  0.0  0.0  0.0  ...  0.0  0.0  0.0   \n",
              "2     0.0  0.0  0.0  0.0  0.0  0.0  0.0  0.0  0.0  0.0  ...  0.0  0.0  0.0   \n",
              "3     0.0  0.0  0.0  0.0  0.0  0.0  0.0  0.0  0.0  0.0  ...  0.0  0.0  0.0   \n",
              "4     0.0  0.0  0.0  0.0  0.0  0.0  0.0  0.0  0.0  0.0  ...  0.0  0.0  0.0   \n",
              "...   ...  ...  ...  ...  ...  ...  ...  ...  ...  ...  ...  ...  ...  ...   \n",
              "3204  0.0  0.0  0.0  0.0  0.0  0.0  0.0  0.0  0.0  0.0  ...  0.0  0.0  0.0   \n",
              "3205  0.0  0.0  0.0  0.0  0.0  0.0  0.0  0.0  0.0  0.0  ...  0.0  0.0  0.0   \n",
              "3206  0.0  0.0  0.0  0.0  0.0  0.0  0.0  0.0  0.0  0.0  ...  0.0  0.0  0.0   \n",
              "3207  0.0  0.0  0.0  0.0  0.0  0.0  0.0  0.0  0.0  0.0  ...  0.0  0.0  0.0   \n",
              "3208  0.0  0.0  0.0  0.0  0.0  0.0  0.0  0.0  0.0  0.0  ...  0.0  0.0  0.0   \n",
              "\n",
              "      258  259  260  261  262  263  264  \n",
              "0     0.0  0.0  0.0  0.0  0.0  0.0  0.0  \n",
              "1     0.0  0.0  0.0  0.0  0.0  0.0  0.0  \n",
              "2     0.0  0.0  0.0  0.0  0.0  0.0  0.0  \n",
              "3     0.0  0.0  0.0  0.0  0.0  0.0  0.0  \n",
              "4     0.0  0.0  0.0  0.0  0.0  0.0  0.0  \n",
              "...   ...  ...  ...  ...  ...  ...  ...  \n",
              "3204  0.0  0.0  0.0  0.0  0.0  0.0  0.0  \n",
              "3205  0.0  0.0  0.0  0.0  0.0  0.0  0.0  \n",
              "3206  0.0  0.0  0.0  0.0  0.0  0.0  0.0  \n",
              "3207  0.0  0.0  0.0  0.0  0.0  0.0  0.0  \n",
              "3208  0.0  0.0  0.0  0.0  0.0  0.0  0.0  \n",
              "\n",
              "[3209 rows x 265 columns]"
            ],
            "text/html": [
              "\n",
              "  <div id=\"df-27233286-0e86-453c-ac98-7e4a5488f37f\" class=\"colab-df-container\">\n",
              "    <div>\n",
              "<style scoped>\n",
              "    .dataframe tbody tr th:only-of-type {\n",
              "        vertical-align: middle;\n",
              "    }\n",
              "\n",
              "    .dataframe tbody tr th {\n",
              "        vertical-align: top;\n",
              "    }\n",
              "\n",
              "    .dataframe thead th {\n",
              "        text-align: right;\n",
              "    }\n",
              "</style>\n",
              "<table border=\"1\" class=\"dataframe\">\n",
              "  <thead>\n",
              "    <tr style=\"text-align: right;\">\n",
              "      <th></th>\n",
              "      <th>0</th>\n",
              "      <th>1</th>\n",
              "      <th>2</th>\n",
              "      <th>3</th>\n",
              "      <th>4</th>\n",
              "      <th>5</th>\n",
              "      <th>6</th>\n",
              "      <th>7</th>\n",
              "      <th>8</th>\n",
              "      <th>9</th>\n",
              "      <th>...</th>\n",
              "      <th>255</th>\n",
              "      <th>256</th>\n",
              "      <th>257</th>\n",
              "      <th>258</th>\n",
              "      <th>259</th>\n",
              "      <th>260</th>\n",
              "      <th>261</th>\n",
              "      <th>262</th>\n",
              "      <th>263</th>\n",
              "      <th>264</th>\n",
              "    </tr>\n",
              "  </thead>\n",
              "  <tbody>\n",
              "    <tr>\n",
              "      <th>0</th>\n",
              "      <td>0.0</td>\n",
              "      <td>0.0</td>\n",
              "      <td>0.0</td>\n",
              "      <td>0.0</td>\n",
              "      <td>0.0</td>\n",
              "      <td>0.0</td>\n",
              "      <td>0.0</td>\n",
              "      <td>0.0</td>\n",
              "      <td>0.0</td>\n",
              "      <td>0.0</td>\n",
              "      <td>...</td>\n",
              "      <td>0.0</td>\n",
              "      <td>0.0</td>\n",
              "      <td>0.0</td>\n",
              "      <td>0.0</td>\n",
              "      <td>0.0</td>\n",
              "      <td>0.0</td>\n",
              "      <td>0.0</td>\n",
              "      <td>0.0</td>\n",
              "      <td>0.0</td>\n",
              "      <td>0.0</td>\n",
              "    </tr>\n",
              "    <tr>\n",
              "      <th>1</th>\n",
              "      <td>0.0</td>\n",
              "      <td>0.0</td>\n",
              "      <td>0.0</td>\n",
              "      <td>0.0</td>\n",
              "      <td>0.0</td>\n",
              "      <td>0.0</td>\n",
              "      <td>0.0</td>\n",
              "      <td>0.0</td>\n",
              "      <td>0.0</td>\n",
              "      <td>0.0</td>\n",
              "      <td>...</td>\n",
              "      <td>0.0</td>\n",
              "      <td>0.0</td>\n",
              "      <td>0.0</td>\n",
              "      <td>0.0</td>\n",
              "      <td>0.0</td>\n",
              "      <td>0.0</td>\n",
              "      <td>0.0</td>\n",
              "      <td>0.0</td>\n",
              "      <td>0.0</td>\n",
              "      <td>0.0</td>\n",
              "    </tr>\n",
              "    <tr>\n",
              "      <th>2</th>\n",
              "      <td>0.0</td>\n",
              "      <td>0.0</td>\n",
              "      <td>0.0</td>\n",
              "      <td>0.0</td>\n",
              "      <td>0.0</td>\n",
              "      <td>0.0</td>\n",
              "      <td>0.0</td>\n",
              "      <td>0.0</td>\n",
              "      <td>0.0</td>\n",
              "      <td>0.0</td>\n",
              "      <td>...</td>\n",
              "      <td>0.0</td>\n",
              "      <td>0.0</td>\n",
              "      <td>0.0</td>\n",
              "      <td>0.0</td>\n",
              "      <td>0.0</td>\n",
              "      <td>0.0</td>\n",
              "      <td>0.0</td>\n",
              "      <td>0.0</td>\n",
              "      <td>0.0</td>\n",
              "      <td>0.0</td>\n",
              "    </tr>\n",
              "    <tr>\n",
              "      <th>3</th>\n",
              "      <td>0.0</td>\n",
              "      <td>0.0</td>\n",
              "      <td>0.0</td>\n",
              "      <td>0.0</td>\n",
              "      <td>0.0</td>\n",
              "      <td>0.0</td>\n",
              "      <td>0.0</td>\n",
              "      <td>0.0</td>\n",
              "      <td>0.0</td>\n",
              "      <td>0.0</td>\n",
              "      <td>...</td>\n",
              "      <td>0.0</td>\n",
              "      <td>0.0</td>\n",
              "      <td>0.0</td>\n",
              "      <td>0.0</td>\n",
              "      <td>0.0</td>\n",
              "      <td>0.0</td>\n",
              "      <td>0.0</td>\n",
              "      <td>0.0</td>\n",
              "      <td>0.0</td>\n",
              "      <td>0.0</td>\n",
              "    </tr>\n",
              "    <tr>\n",
              "      <th>4</th>\n",
              "      <td>0.0</td>\n",
              "      <td>0.0</td>\n",
              "      <td>0.0</td>\n",
              "      <td>0.0</td>\n",
              "      <td>0.0</td>\n",
              "      <td>0.0</td>\n",
              "      <td>0.0</td>\n",
              "      <td>0.0</td>\n",
              "      <td>0.0</td>\n",
              "      <td>0.0</td>\n",
              "      <td>...</td>\n",
              "      <td>0.0</td>\n",
              "      <td>0.0</td>\n",
              "      <td>0.0</td>\n",
              "      <td>0.0</td>\n",
              "      <td>0.0</td>\n",
              "      <td>0.0</td>\n",
              "      <td>0.0</td>\n",
              "      <td>0.0</td>\n",
              "      <td>0.0</td>\n",
              "      <td>0.0</td>\n",
              "    </tr>\n",
              "    <tr>\n",
              "      <th>...</th>\n",
              "      <td>...</td>\n",
              "      <td>...</td>\n",
              "      <td>...</td>\n",
              "      <td>...</td>\n",
              "      <td>...</td>\n",
              "      <td>...</td>\n",
              "      <td>...</td>\n",
              "      <td>...</td>\n",
              "      <td>...</td>\n",
              "      <td>...</td>\n",
              "      <td>...</td>\n",
              "      <td>...</td>\n",
              "      <td>...</td>\n",
              "      <td>...</td>\n",
              "      <td>...</td>\n",
              "      <td>...</td>\n",
              "      <td>...</td>\n",
              "      <td>...</td>\n",
              "      <td>...</td>\n",
              "      <td>...</td>\n",
              "      <td>...</td>\n",
              "    </tr>\n",
              "    <tr>\n",
              "      <th>3204</th>\n",
              "      <td>0.0</td>\n",
              "      <td>0.0</td>\n",
              "      <td>0.0</td>\n",
              "      <td>0.0</td>\n",
              "      <td>0.0</td>\n",
              "      <td>0.0</td>\n",
              "      <td>0.0</td>\n",
              "      <td>0.0</td>\n",
              "      <td>0.0</td>\n",
              "      <td>0.0</td>\n",
              "      <td>...</td>\n",
              "      <td>0.0</td>\n",
              "      <td>0.0</td>\n",
              "      <td>0.0</td>\n",
              "      <td>0.0</td>\n",
              "      <td>0.0</td>\n",
              "      <td>0.0</td>\n",
              "      <td>0.0</td>\n",
              "      <td>0.0</td>\n",
              "      <td>0.0</td>\n",
              "      <td>0.0</td>\n",
              "    </tr>\n",
              "    <tr>\n",
              "      <th>3205</th>\n",
              "      <td>0.0</td>\n",
              "      <td>0.0</td>\n",
              "      <td>0.0</td>\n",
              "      <td>0.0</td>\n",
              "      <td>0.0</td>\n",
              "      <td>0.0</td>\n",
              "      <td>0.0</td>\n",
              "      <td>0.0</td>\n",
              "      <td>0.0</td>\n",
              "      <td>0.0</td>\n",
              "      <td>...</td>\n",
              "      <td>0.0</td>\n",
              "      <td>0.0</td>\n",
              "      <td>0.0</td>\n",
              "      <td>0.0</td>\n",
              "      <td>0.0</td>\n",
              "      <td>0.0</td>\n",
              "      <td>0.0</td>\n",
              "      <td>0.0</td>\n",
              "      <td>0.0</td>\n",
              "      <td>0.0</td>\n",
              "    </tr>\n",
              "    <tr>\n",
              "      <th>3206</th>\n",
              "      <td>0.0</td>\n",
              "      <td>0.0</td>\n",
              "      <td>0.0</td>\n",
              "      <td>0.0</td>\n",
              "      <td>0.0</td>\n",
              "      <td>0.0</td>\n",
              "      <td>0.0</td>\n",
              "      <td>0.0</td>\n",
              "      <td>0.0</td>\n",
              "      <td>0.0</td>\n",
              "      <td>...</td>\n",
              "      <td>0.0</td>\n",
              "      <td>0.0</td>\n",
              "      <td>0.0</td>\n",
              "      <td>0.0</td>\n",
              "      <td>0.0</td>\n",
              "      <td>0.0</td>\n",
              "      <td>0.0</td>\n",
              "      <td>0.0</td>\n",
              "      <td>0.0</td>\n",
              "      <td>0.0</td>\n",
              "    </tr>\n",
              "    <tr>\n",
              "      <th>3207</th>\n",
              "      <td>0.0</td>\n",
              "      <td>0.0</td>\n",
              "      <td>0.0</td>\n",
              "      <td>0.0</td>\n",
              "      <td>0.0</td>\n",
              "      <td>0.0</td>\n",
              "      <td>0.0</td>\n",
              "      <td>0.0</td>\n",
              "      <td>0.0</td>\n",
              "      <td>0.0</td>\n",
              "      <td>...</td>\n",
              "      <td>0.0</td>\n",
              "      <td>0.0</td>\n",
              "      <td>0.0</td>\n",
              "      <td>0.0</td>\n",
              "      <td>0.0</td>\n",
              "      <td>0.0</td>\n",
              "      <td>0.0</td>\n",
              "      <td>0.0</td>\n",
              "      <td>0.0</td>\n",
              "      <td>0.0</td>\n",
              "    </tr>\n",
              "    <tr>\n",
              "      <th>3208</th>\n",
              "      <td>0.0</td>\n",
              "      <td>0.0</td>\n",
              "      <td>0.0</td>\n",
              "      <td>0.0</td>\n",
              "      <td>0.0</td>\n",
              "      <td>0.0</td>\n",
              "      <td>0.0</td>\n",
              "      <td>0.0</td>\n",
              "      <td>0.0</td>\n",
              "      <td>0.0</td>\n",
              "      <td>...</td>\n",
              "      <td>0.0</td>\n",
              "      <td>0.0</td>\n",
              "      <td>0.0</td>\n",
              "      <td>0.0</td>\n",
              "      <td>0.0</td>\n",
              "      <td>0.0</td>\n",
              "      <td>0.0</td>\n",
              "      <td>0.0</td>\n",
              "      <td>0.0</td>\n",
              "      <td>0.0</td>\n",
              "    </tr>\n",
              "  </tbody>\n",
              "</table>\n",
              "<p>3209 rows × 265 columns</p>\n",
              "</div>\n",
              "    <div class=\"colab-df-buttons\">\n",
              "\n",
              "  <div class=\"colab-df-container\">\n",
              "    <button class=\"colab-df-convert\" onclick=\"convertToInteractive('df-27233286-0e86-453c-ac98-7e4a5488f37f')\"\n",
              "            title=\"Convert this dataframe to an interactive table.\"\n",
              "            style=\"display:none;\">\n",
              "\n",
              "  <svg xmlns=\"http://www.w3.org/2000/svg\" height=\"24px\" viewBox=\"0 -960 960 960\">\n",
              "    <path d=\"M120-120v-720h720v720H120Zm60-500h600v-160H180v160Zm220 220h160v-160H400v160Zm0 220h160v-160H400v160ZM180-400h160v-160H180v160Zm440 0h160v-160H620v160ZM180-180h160v-160H180v160Zm440 0h160v-160H620v160Z\"/>\n",
              "  </svg>\n",
              "    </button>\n",
              "\n",
              "  <style>\n",
              "    .colab-df-container {\n",
              "      display:flex;\n",
              "      gap: 12px;\n",
              "    }\n",
              "\n",
              "    .colab-df-convert {\n",
              "      background-color: #E8F0FE;\n",
              "      border: none;\n",
              "      border-radius: 50%;\n",
              "      cursor: pointer;\n",
              "      display: none;\n",
              "      fill: #1967D2;\n",
              "      height: 32px;\n",
              "      padding: 0 0 0 0;\n",
              "      width: 32px;\n",
              "    }\n",
              "\n",
              "    .colab-df-convert:hover {\n",
              "      background-color: #E2EBFA;\n",
              "      box-shadow: 0px 1px 2px rgba(60, 64, 67, 0.3), 0px 1px 3px 1px rgba(60, 64, 67, 0.15);\n",
              "      fill: #174EA6;\n",
              "    }\n",
              "\n",
              "    .colab-df-buttons div {\n",
              "      margin-bottom: 4px;\n",
              "    }\n",
              "\n",
              "    [theme=dark] .colab-df-convert {\n",
              "      background-color: #3B4455;\n",
              "      fill: #D2E3FC;\n",
              "    }\n",
              "\n",
              "    [theme=dark] .colab-df-convert:hover {\n",
              "      background-color: #434B5C;\n",
              "      box-shadow: 0px 1px 3px 1px rgba(0, 0, 0, 0.15);\n",
              "      filter: drop-shadow(0px 1px 2px rgba(0, 0, 0, 0.3));\n",
              "      fill: #FFFFFF;\n",
              "    }\n",
              "  </style>\n",
              "\n",
              "    <script>\n",
              "      const buttonEl =\n",
              "        document.querySelector('#df-27233286-0e86-453c-ac98-7e4a5488f37f button.colab-df-convert');\n",
              "      buttonEl.style.display =\n",
              "        google.colab.kernel.accessAllowed ? 'block' : 'none';\n",
              "\n",
              "      async function convertToInteractive(key) {\n",
              "        const element = document.querySelector('#df-27233286-0e86-453c-ac98-7e4a5488f37f');\n",
              "        const dataTable =\n",
              "          await google.colab.kernel.invokeFunction('convertToInteractive',\n",
              "                                                    [key], {});\n",
              "        if (!dataTable) return;\n",
              "\n",
              "        const docLinkHtml = 'Like what you see? Visit the ' +\n",
              "          '<a target=\"_blank\" href=https://colab.research.google.com/notebooks/data_table.ipynb>data table notebook</a>'\n",
              "          + ' to learn more about interactive tables.';\n",
              "        element.innerHTML = '';\n",
              "        dataTable['output_type'] = 'display_data';\n",
              "        await google.colab.output.renderOutput(dataTable, element);\n",
              "        const docLink = document.createElement('div');\n",
              "        docLink.innerHTML = docLinkHtml;\n",
              "        element.appendChild(docLink);\n",
              "      }\n",
              "    </script>\n",
              "  </div>\n",
              "\n",
              "\n",
              "<div id=\"df-42f22fb7-465b-4372-a953-88d86fcb97cc\">\n",
              "  <button class=\"colab-df-quickchart\" onclick=\"quickchart('df-42f22fb7-465b-4372-a953-88d86fcb97cc')\"\n",
              "            title=\"Suggest charts\"\n",
              "            style=\"display:none;\">\n",
              "\n",
              "<svg xmlns=\"http://www.w3.org/2000/svg\" height=\"24px\"viewBox=\"0 0 24 24\"\n",
              "     width=\"24px\">\n",
              "    <g>\n",
              "        <path d=\"M19 3H5c-1.1 0-2 .9-2 2v14c0 1.1.9 2 2 2h14c1.1 0 2-.9 2-2V5c0-1.1-.9-2-2-2zM9 17H7v-7h2v7zm4 0h-2V7h2v10zm4 0h-2v-4h2v4z\"/>\n",
              "    </g>\n",
              "</svg>\n",
              "  </button>\n",
              "\n",
              "<style>\n",
              "  .colab-df-quickchart {\n",
              "      --bg-color: #E8F0FE;\n",
              "      --fill-color: #1967D2;\n",
              "      --hover-bg-color: #E2EBFA;\n",
              "      --hover-fill-color: #174EA6;\n",
              "      --disabled-fill-color: #AAA;\n",
              "      --disabled-bg-color: #DDD;\n",
              "  }\n",
              "\n",
              "  [theme=dark] .colab-df-quickchart {\n",
              "      --bg-color: #3B4455;\n",
              "      --fill-color: #D2E3FC;\n",
              "      --hover-bg-color: #434B5C;\n",
              "      --hover-fill-color: #FFFFFF;\n",
              "      --disabled-bg-color: #3B4455;\n",
              "      --disabled-fill-color: #666;\n",
              "  }\n",
              "\n",
              "  .colab-df-quickchart {\n",
              "    background-color: var(--bg-color);\n",
              "    border: none;\n",
              "    border-radius: 50%;\n",
              "    cursor: pointer;\n",
              "    display: none;\n",
              "    fill: var(--fill-color);\n",
              "    height: 32px;\n",
              "    padding: 0;\n",
              "    width: 32px;\n",
              "  }\n",
              "\n",
              "  .colab-df-quickchart:hover {\n",
              "    background-color: var(--hover-bg-color);\n",
              "    box-shadow: 0 1px 2px rgba(60, 64, 67, 0.3), 0 1px 3px 1px rgba(60, 64, 67, 0.15);\n",
              "    fill: var(--button-hover-fill-color);\n",
              "  }\n",
              "\n",
              "  .colab-df-quickchart-complete:disabled,\n",
              "  .colab-df-quickchart-complete:disabled:hover {\n",
              "    background-color: var(--disabled-bg-color);\n",
              "    fill: var(--disabled-fill-color);\n",
              "    box-shadow: none;\n",
              "  }\n",
              "\n",
              "  .colab-df-spinner {\n",
              "    border: 2px solid var(--fill-color);\n",
              "    border-color: transparent;\n",
              "    border-bottom-color: var(--fill-color);\n",
              "    animation:\n",
              "      spin 1s steps(1) infinite;\n",
              "  }\n",
              "\n",
              "  @keyframes spin {\n",
              "    0% {\n",
              "      border-color: transparent;\n",
              "      border-bottom-color: var(--fill-color);\n",
              "      border-left-color: var(--fill-color);\n",
              "    }\n",
              "    20% {\n",
              "      border-color: transparent;\n",
              "      border-left-color: var(--fill-color);\n",
              "      border-top-color: var(--fill-color);\n",
              "    }\n",
              "    30% {\n",
              "      border-color: transparent;\n",
              "      border-left-color: var(--fill-color);\n",
              "      border-top-color: var(--fill-color);\n",
              "      border-right-color: var(--fill-color);\n",
              "    }\n",
              "    40% {\n",
              "      border-color: transparent;\n",
              "      border-right-color: var(--fill-color);\n",
              "      border-top-color: var(--fill-color);\n",
              "    }\n",
              "    60% {\n",
              "      border-color: transparent;\n",
              "      border-right-color: var(--fill-color);\n",
              "    }\n",
              "    80% {\n",
              "      border-color: transparent;\n",
              "      border-right-color: var(--fill-color);\n",
              "      border-bottom-color: var(--fill-color);\n",
              "    }\n",
              "    90% {\n",
              "      border-color: transparent;\n",
              "      border-bottom-color: var(--fill-color);\n",
              "    }\n",
              "  }\n",
              "</style>\n",
              "\n",
              "  <script>\n",
              "    async function quickchart(key) {\n",
              "      const quickchartButtonEl =\n",
              "        document.querySelector('#' + key + ' button');\n",
              "      quickchartButtonEl.disabled = true;  // To prevent multiple clicks.\n",
              "      quickchartButtonEl.classList.add('colab-df-spinner');\n",
              "      try {\n",
              "        const charts = await google.colab.kernel.invokeFunction(\n",
              "            'suggestCharts', [key], {});\n",
              "      } catch (error) {\n",
              "        console.error('Error during call to suggestCharts:', error);\n",
              "      }\n",
              "      quickchartButtonEl.classList.remove('colab-df-spinner');\n",
              "      quickchartButtonEl.classList.add('colab-df-quickchart-complete');\n",
              "    }\n",
              "    (() => {\n",
              "      let quickchartButtonEl =\n",
              "        document.querySelector('#df-42f22fb7-465b-4372-a953-88d86fcb97cc button');\n",
              "      quickchartButtonEl.style.display =\n",
              "        google.colab.kernel.accessAllowed ? 'block' : 'none';\n",
              "    })();\n",
              "  </script>\n",
              "</div>\n",
              "\n",
              "  <div id=\"id_c4b126e4-e731-453f-9a26-6cdcdfa9cdf8\">\n",
              "    <style>\n",
              "      .colab-df-generate {\n",
              "        background-color: #E8F0FE;\n",
              "        border: none;\n",
              "        border-radius: 50%;\n",
              "        cursor: pointer;\n",
              "        display: none;\n",
              "        fill: #1967D2;\n",
              "        height: 32px;\n",
              "        padding: 0 0 0 0;\n",
              "        width: 32px;\n",
              "      }\n",
              "\n",
              "      .colab-df-generate:hover {\n",
              "        background-color: #E2EBFA;\n",
              "        box-shadow: 0px 1px 2px rgba(60, 64, 67, 0.3), 0px 1px 3px 1px rgba(60, 64, 67, 0.15);\n",
              "        fill: #174EA6;\n",
              "      }\n",
              "\n",
              "      [theme=dark] .colab-df-generate {\n",
              "        background-color: #3B4455;\n",
              "        fill: #D2E3FC;\n",
              "      }\n",
              "\n",
              "      [theme=dark] .colab-df-generate:hover {\n",
              "        background-color: #434B5C;\n",
              "        box-shadow: 0px 1px 3px 1px rgba(0, 0, 0, 0.15);\n",
              "        filter: drop-shadow(0px 1px 2px rgba(0, 0, 0, 0.3));\n",
              "        fill: #FFFFFF;\n",
              "      }\n",
              "    </style>\n",
              "    <button class=\"colab-df-generate\" onclick=\"generateWithVariable('zero_df')\"\n",
              "            title=\"Generate code using this dataframe.\"\n",
              "            style=\"display:none;\">\n",
              "\n",
              "  <svg xmlns=\"http://www.w3.org/2000/svg\" height=\"24px\"viewBox=\"0 0 24 24\"\n",
              "       width=\"24px\">\n",
              "    <path d=\"M7,19H8.4L18.45,9,17,7.55,7,17.6ZM5,21V16.75L18.45,3.32a2,2,0,0,1,2.83,0l1.4,1.43a1.91,1.91,0,0,1,.58,1.4,1.91,1.91,0,0,1-.58,1.4L9.25,21ZM18.45,9,17,7.55Zm-12,3A5.31,5.31,0,0,0,4.9,8.1,5.31,5.31,0,0,0,1,6.5,5.31,5.31,0,0,0,4.9,4.9,5.31,5.31,0,0,0,6.5,1,5.31,5.31,0,0,0,8.1,4.9,5.31,5.31,0,0,0,12,6.5,5.46,5.46,0,0,0,6.5,12Z\"/>\n",
              "  </svg>\n",
              "    </button>\n",
              "    <script>\n",
              "      (() => {\n",
              "      const buttonEl =\n",
              "        document.querySelector('#id_c4b126e4-e731-453f-9a26-6cdcdfa9cdf8 button.colab-df-generate');\n",
              "      buttonEl.style.display =\n",
              "        google.colab.kernel.accessAllowed ? 'block' : 'none';\n",
              "\n",
              "      buttonEl.onclick = () => {\n",
              "        google.colab.notebook.generateWithVariable('zero_df');\n",
              "      }\n",
              "      })();\n",
              "    </script>\n",
              "  </div>\n",
              "\n",
              "    </div>\n",
              "  </div>\n"
            ],
            "application/vnd.google.colaboratory.intrinsic+json": {
              "type": "dataframe",
              "variable_name": "zero_df"
            }
          },
          "metadata": {},
          "execution_count": 208
        }
      ]
    },
    {
      "cell_type": "code",
      "source": [
        "X = comb_df.drop(columns=['ts', 'label']).copy()\n",
        "y = comb_df.label"
      ],
      "metadata": {
        "id": "tXPbYYrHRgGU"
      },
      "id": "tXPbYYrHRgGU",
      "execution_count": null,
      "outputs": []
    },
    {
      "cell_type": "code",
      "source": [
        "X = X.astype(int)"
      ],
      "metadata": {
        "id": "SlNHYVu8SV_g"
      },
      "id": "SlNHYVu8SV_g",
      "execution_count": null,
      "outputs": []
    },
    {
      "cell_type": "code",
      "source": [
        "X.shape"
      ],
      "metadata": {
        "colab": {
          "base_uri": "https://localhost:8080/"
        },
        "id": "1f7zLM8IciGG",
        "outputId": "d2b246f8-f88b-4b0e-b60f-a6e69242f658"
      },
      "id": "1f7zLM8IciGG",
      "execution_count": null,
      "outputs": [
        {
          "output_type": "execute_result",
          "data": {
            "text/plain": [
              "(3209, 102)"
            ]
          },
          "metadata": {},
          "execution_count": 219
        }
      ]
    },
    {
      "cell_type": "code",
      "source": [
        "X = X.merge(zero_df, how = 'outer', left_index = True, right_index = True,)\n",
        "X.columns = X.columns.astype(str)"
      ],
      "metadata": {
        "id": "R-XW1DHbcYXy"
      },
      "id": "R-XW1DHbcYXy",
      "execution_count": null,
      "outputs": []
    },
    {
      "cell_type": "code",
      "source": [
        "scaler = MinMaxScaler()\n",
        "scaler.fit(X)\n",
        "X_scaled = scaler.transform(X)"
      ],
      "metadata": {
        "id": "6_OMNlFxRgKR"
      },
      "id": "6_OMNlFxRgKR",
      "execution_count": null,
      "outputs": []
    },
    {
      "cell_type": "code",
      "source": [
        "y.dtypes"
      ],
      "metadata": {
        "colab": {
          "base_uri": "https://localhost:8080/"
        },
        "id": "X0MlrWkvTBRF",
        "outputId": "f108718b-ed4b-4b62-e1d8-a6bc158266b5"
      },
      "id": "X0MlrWkvTBRF",
      "execution_count": null,
      "outputs": [
        {
          "output_type": "execute_result",
          "data": {
            "text/plain": [
              "dtype('int64')"
            ]
          },
          "metadata": {},
          "execution_count": 222
        }
      ]
    },
    {
      "cell_type": "code",
      "source": [
        "X.shape"
      ],
      "metadata": {
        "colab": {
          "base_uri": "https://localhost:8080/"
        },
        "id": "45cGI_WkSqsx",
        "outputId": "864473ba-9a53-46ee-965b-b42d5a041f26"
      },
      "id": "45cGI_WkSqsx",
      "execution_count": null,
      "outputs": [
        {
          "output_type": "execute_result",
          "data": {
            "text/plain": [
              "(3209, 367)"
            ]
          },
          "metadata": {},
          "execution_count": 223
        }
      ]
    },
    {
      "cell_type": "code",
      "source": [
        "loss_and_metrics = model_loaded.evaluate(X_scaled, y)\n",
        "print(f'Loss = {loss_and_metrics[0]}')\n",
        "print(f'Accuracy = {loss_and_metrics[1]}')"
      ],
      "metadata": {
        "colab": {
          "base_uri": "https://localhost:8080/"
        },
        "id": "N9WrzgmzSIc7",
        "outputId": "178cf854-c538-4035-a183-b941c7908227"
      },
      "id": "N9WrzgmzSIc7",
      "execution_count": null,
      "outputs": [
        {
          "output_type": "stream",
          "name": "stdout",
          "text": [
            "\u001b[1m101/101\u001b[0m \u001b[32m━━━━━━━━━━━━━━━━━━━━\u001b[0m\u001b[37m\u001b[0m \u001b[1m1s\u001b[0m 7ms/step - accuracy: 1.0000 - loss: 0.0021\n",
            "Loss = 0.0005326070822775364\n",
            "Accuracy = 1.0\n"
          ]
        }
      ]
    },
    {
      "cell_type": "code",
      "source": [
        "predicaiton_validation = model_loaded.predict(X_scaled)"
      ],
      "metadata": {
        "colab": {
          "base_uri": "https://localhost:8080/"
        },
        "id": "Ac0Ck5jCdimX",
        "outputId": "bb37c037-3696-40ba-83e6-7d1bcdbd3d01"
      },
      "id": "Ac0Ck5jCdimX",
      "execution_count": null,
      "outputs": [
        {
          "output_type": "stream",
          "name": "stdout",
          "text": [
            "\u001b[1m101/101\u001b[0m \u001b[32m━━━━━━━━━━━━━━━━━━━━\u001b[0m\u001b[37m\u001b[0m \u001b[1m1s\u001b[0m 4ms/step\n"
          ]
        }
      ]
    },
    {
      "cell_type": "code",
      "source": [
        "predicted = tf.squeeze(predicaiton_validation)\n",
        "predicted = np.array([1 if x >= 0.5 else 0 for x in predicted])\n",
        "actual = np.array(y)\n",
        "conf_mat = confusion_matrix(actual, predicted)\n",
        "displ = ConfusionMatrixDisplay(confusion_matrix=conf_mat)\n",
        "displ.plot()"
      ],
      "metadata": {
        "colab": {
          "base_uri": "https://localhost:8080/",
          "height": 466
        },
        "id": "pmQp46DWSIfx",
        "outputId": "91ce013e-879c-44b3-8521-661cf94bea09"
      },
      "id": "pmQp46DWSIfx",
      "execution_count": null,
      "outputs": [
        {
          "output_type": "execute_result",
          "data": {
            "text/plain": [
              "<sklearn.metrics._plot.confusion_matrix.ConfusionMatrixDisplay at 0x7b658a4519d0>"
            ]
          },
          "metadata": {},
          "execution_count": 227
        },
        {
          "output_type": "display_data",
          "data": {
            "text/plain": [
              "<Figure size 640x480 with 2 Axes>"
            ],
            "image/png": "[encoded data removed]"
          },
          "metadata": {}
        }
      ]
    },
    {
      "cell_type": "code",
      "source": [],
      "metadata": {
        "id": "oQqZOfvASIiq"
      },
      "id": "oQqZOfvASIiq",
      "execution_count": null,
      "outputs": []
    },
    {
      "cell_type": "code",
      "source": [],
      "metadata": {
        "id": "PL77uIDlSIl1"
      },
      "id": "PL77uIDlSIl1",
      "execution_count": null,
      "outputs": []
    },
    {
      "cell_type": "markdown",
      "id": "5ed770ef-a8fd-42d4-aad5-90f56379647f",
      "metadata": {
        "id": "5ed770ef-a8fd-42d4-aad5-90f56379647f"
      },
      "source": [
        "---\n",
        "---\n",
        "---"
      ]
    }
  ],
  "metadata": {
    "kernelspec": {
      "display_name": "Python 3",
      "name": "python3"
    },
    "language_info": {
      "codemirror_mode": {
        "name": "ipython",
        "version": 3
      },
      "file_extension": ".py",
      "mimetype": "text/x-python",
      "name": "python",
      "nbconvert_exporter": "python",
      "pygments_lexer": "ipython3",
      "version": "3.10.13"
    },
    "colab": {
      "provenance": [],
      "machine_shape": "hm",
      "gpuType": "T4"
    },
    "accelerator": "GPU"
  },
  "nbformat": 4,
  "nbformat_minor": 5
}