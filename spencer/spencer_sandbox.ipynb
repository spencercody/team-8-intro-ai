{
 "cells": [
  {
   "cell_type": "markdown",
   "id": "2d68a0e6-ff9e-43fa-a614-62b3f9179ef2",
   "metadata": {},
   "source": [
    "#### imports"
   ]
  },
  {
   "cell_type": "code",
   "execution_count": 3,
   "id": "68390098-e141-4c7b-95d1-9644582d5223",
   "metadata": {},
   "outputs": [],
   "source": [
    "import pandas as pd\n",
    "import numpy as np\n",
    "import seaborn as sns\n",
    "import matplotlib.pyplot as plt\n",
    "import os\n",
    "#from sklearn import test_train_split, random_forest"
   ]
  },
  {
   "cell_type": "markdown",
   "id": "da09fc23-b6b1-406d-bb3a-6e74fdf85831",
   "metadata": {},
   "source": [
    "---"
   ]
  },
  {
   "cell_type": "markdown",
   "id": "31575bab-4be6-4906-b86c-a84cebf49d90",
   "metadata": {},
   "source": [
    "#### data\n",
    "https://www.kaggle.com/datasets/advaitnmenon/network-traffic-data-malicious-activity-detection"
   ]
  },
  {
   "cell_type": "markdown",
   "id": "855c2f44-29e3-4328-a713-c09eb0e13e6e",
   "metadata": {},
   "source": [
    "##### tensorflow example\n",
    "https://www.freecodecamp.org/news/binary-classification-made-simple-with-tensorflow/"
   ]
  },
  {
   "cell_type": "markdown",
   "id": "3860d932-ec74-4e96-a537-e07f86031639",
   "metadata": {},
   "source": [
    "---"
   ]
  },
  {
   "cell_type": "markdown",
   "id": "2925d2f2-4c3d-438d-a398-94a9f8d194f3",
   "metadata": {},
   "source": [
    "### Reading in the data and data exploration"
   ]
  },
  {
   "cell_type": "code",
   "execution_count": 4,
   "id": "0eed5bad-01af-4e91-84dc-d71d75c97ec4",
   "metadata": {},
   "outputs": [
    {
     "data": {
      "text/plain": [
       "'C:\\\\Users\\\\speco\\\\USD\\\\intro_to_ai\\\\team-8\\\\spencer'"
      ]
     },
     "execution_count": 4,
     "metadata": {},
     "output_type": "execute_result"
    }
   ],
   "source": [
    "os.getcwd()"
   ]
  },
  {
   "cell_type": "code",
   "execution_count": 5,
   "id": "29fa653f-7ec3-417e-b26a-7903ac038fbc",
   "metadata": {},
   "outputs": [],
   "source": [
    "df = pd.read_csv(r'data/NandakumarMenonAdvait_MT_S2.csv')"
   ]
  },
  {
   "cell_type": "code",
   "execution_count": 6,
   "id": "c3ee2b0a-50fd-4ecf-966f-4545ea5a2b43",
   "metadata": {},
   "outputs": [
    {
     "data": {
      "text/html": [
       "<div>\n",
       "<style scoped>\n",
       "    .dataframe tbody tr th:only-of-type {\n",
       "        vertical-align: middle;\n",
       "    }\n",
       "\n",
       "    .dataframe tbody tr th {\n",
       "        vertical-align: top;\n",
       "    }\n",
       "\n",
       "    .dataframe thead th {\n",
       "        text-align: right;\n",
       "    }\n",
       "</style>\n",
       "<table border=\"1\" class=\"dataframe\">\n",
       "  <thead>\n",
       "    <tr style=\"text-align: right;\">\n",
       "      <th></th>\n",
       "      <th>Time</th>\n",
       "      <th>Source</th>\n",
       "      <th>Destination</th>\n",
       "      <th>Protocol</th>\n",
       "      <th>Length</th>\n",
       "      <th>Source Port</th>\n",
       "      <th>Destination Port</th>\n",
       "      <th>bad_packet</th>\n",
       "    </tr>\n",
       "  </thead>\n",
       "  <tbody>\n",
       "    <tr>\n",
       "      <th>0</th>\n",
       "      <td>0.000000</td>\n",
       "      <td>VMware_8a:60:5f</td>\n",
       "      <td>Broadcast</td>\n",
       "      <td>ARP</td>\n",
       "      <td>60</td>\n",
       "      <td>NaN</td>\n",
       "      <td>NaN</td>\n",
       "      <td>0</td>\n",
       "    </tr>\n",
       "    <tr>\n",
       "      <th>1</th>\n",
       "      <td>0.081233</td>\n",
       "      <td>VMware_8a:12:84</td>\n",
       "      <td>Broadcast</td>\n",
       "      <td>ARP</td>\n",
       "      <td>60</td>\n",
       "      <td>NaN</td>\n",
       "      <td>NaN</td>\n",
       "      <td>0</td>\n",
       "    </tr>\n",
       "    <tr>\n",
       "      <th>2</th>\n",
       "      <td>0.217863</td>\n",
       "      <td>VMware_8a:7e:e9</td>\n",
       "      <td>Broadcast</td>\n",
       "      <td>ARP</td>\n",
       "      <td>60</td>\n",
       "      <td>NaN</td>\n",
       "      <td>NaN</td>\n",
       "      <td>0</td>\n",
       "    </tr>\n",
       "  </tbody>\n",
       "</table>\n",
       "</div>"
      ],
      "text/plain": [
       "       Time           Source Destination Protocol  Length  Source Port  \\\n",
       "0  0.000000  VMware_8a:60:5f   Broadcast      ARP      60          NaN   \n",
       "1  0.081233  VMware_8a:12:84   Broadcast      ARP      60          NaN   \n",
       "2  0.217863  VMware_8a:7e:e9   Broadcast      ARP      60          NaN   \n",
       "\n",
       "   Destination Port  bad_packet  \n",
       "0               NaN           0  \n",
       "1               NaN           0  \n",
       "2               NaN           0  "
      ]
     },
     "execution_count": 6,
     "metadata": {},
     "output_type": "execute_result"
    }
   ],
   "source": [
    "df[:3]"
   ]
  },
  {
   "cell_type": "code",
   "execution_count": 7,
   "id": "8b0163c9-dad2-4e2e-bdab-9de46bae42a8",
   "metadata": {},
   "outputs": [
    {
     "data": {
      "text/plain": [
       "3245180"
      ]
     },
     "execution_count": 7,
     "metadata": {},
     "output_type": "execute_result"
    }
   ],
   "source": [
    "len(df)"
   ]
  },
  {
   "cell_type": "code",
   "execution_count": 8,
   "id": "21afff61-6829-4933-8ebd-c21f798ed8b5",
   "metadata": {},
   "outputs": [
    {
     "data": {
      "text/plain": [
       "array(['Broadcast', '192.167.5.22', '192.167.5.35', '192.167.255.255',\n",
       "       '142.251.32.14', '192.232.16.204', 'VMware_8a:7f:3f',\n",
       "       'VMware_8a:5c:e6', 'VMware_8a:aa:27'], dtype=object)"
      ]
     },
     "execution_count": 8,
     "metadata": {},
     "output_type": "execute_result"
    }
   ],
   "source": [
    "df.Destination.unique()"
   ]
  },
  {
   "cell_type": "code",
   "execution_count": 8,
   "id": "8d70a123-ab58-441e-a602-c915877ebe2d",
   "metadata": {},
   "outputs": [
    {
     "data": {
      "text/plain": [
       "Time                float64\n",
       "Source               object\n",
       "Destination          object\n",
       "Protocol             object\n",
       "Length                int64\n",
       "Source Port         float64\n",
       "Destination Port    float64\n",
       "bad_packet            int64\n",
       "dtype: object"
      ]
     },
     "execution_count": 8,
     "metadata": {},
     "output_type": "execute_result"
    }
   ],
   "source": [
    "df.dtypes"
   ]
  },
  {
   "cell_type": "code",
   "execution_count": 17,
   "id": "446b99f6-563d-49cf-86c1-c4943419f8c5",
   "metadata": {},
   "outputs": [
    {
     "data": {
      "text/html": [
       "<div>\n",
       "<style scoped>\n",
       "    .dataframe tbody tr th:only-of-type {\n",
       "        vertical-align: middle;\n",
       "    }\n",
       "\n",
       "    .dataframe tbody tr th {\n",
       "        vertical-align: top;\n",
       "    }\n",
       "\n",
       "    .dataframe thead th {\n",
       "        text-align: right;\n",
       "    }\n",
       "</style>\n",
       "<table border=\"1\" class=\"dataframe\">\n",
       "  <thead>\n",
       "    <tr style=\"text-align: right;\">\n",
       "      <th></th>\n",
       "      <th>Time</th>\n",
       "      <th>Length</th>\n",
       "      <th>Source Port</th>\n",
       "      <th>Destination Port</th>\n",
       "      <th>bad_packet</th>\n",
       "    </tr>\n",
       "  </thead>\n",
       "  <tbody>\n",
       "    <tr>\n",
       "      <th>Time</th>\n",
       "      <td>1.000000</td>\n",
       "      <td>-0.047309</td>\n",
       "      <td>-0.043687</td>\n",
       "      <td>0.029307</td>\n",
       "      <td>0.067949</td>\n",
       "    </tr>\n",
       "    <tr>\n",
       "      <th>Length</th>\n",
       "      <td>-0.047309</td>\n",
       "      <td>1.000000</td>\n",
       "      <td>-0.836410</td>\n",
       "      <td>0.906244</td>\n",
       "      <td>-0.717578</td>\n",
       "    </tr>\n",
       "    <tr>\n",
       "      <th>Source Port</th>\n",
       "      <td>-0.043687</td>\n",
       "      <td>-0.836410</td>\n",
       "      <td>1.000000</td>\n",
       "      <td>-0.930075</td>\n",
       "      <td>NaN</td>\n",
       "    </tr>\n",
       "    <tr>\n",
       "      <th>Destination Port</th>\n",
       "      <td>0.029307</td>\n",
       "      <td>0.906244</td>\n",
       "      <td>-0.930075</td>\n",
       "      <td>1.000000</td>\n",
       "      <td>NaN</td>\n",
       "    </tr>\n",
       "    <tr>\n",
       "      <th>bad_packet</th>\n",
       "      <td>0.067949</td>\n",
       "      <td>-0.717578</td>\n",
       "      <td>NaN</td>\n",
       "      <td>NaN</td>\n",
       "      <td>1.000000</td>\n",
       "    </tr>\n",
       "  </tbody>\n",
       "</table>\n",
       "</div>"
      ],
      "text/plain": [
       "                      Time    Length  Source Port  Destination Port  \\\n",
       "Time              1.000000 -0.047309    -0.043687          0.029307   \n",
       "Length           -0.047309  1.000000    -0.836410          0.906244   \n",
       "Source Port      -0.043687 -0.836410     1.000000         -0.930075   \n",
       "Destination Port  0.029307  0.906244    -0.930075          1.000000   \n",
       "bad_packet        0.067949 -0.717578          NaN               NaN   \n",
       "\n",
       "                  bad_packet  \n",
       "Time                0.067949  \n",
       "Length             -0.717578  \n",
       "Source Port              NaN  \n",
       "Destination Port         NaN  \n",
       "bad_packet          1.000000  "
      ]
     },
     "execution_count": 17,
     "metadata": {},
     "output_type": "execute_result"
    }
   ],
   "source": [
    "df.corr()"
   ]
  },
  {
   "cell_type": "code",
   "execution_count": 16,
   "id": "17c074cc-66bf-4292-903e-94956052149b",
   "metadata": {},
   "outputs": [
    {
     "data": {
      "text/plain": [
       "<AxesSubplot:>"
      ]
     },
     "execution_count": 16,
     "metadata": {},
     "output_type": "execute_result"
    },
    {
     "data": {
      "image/png": "[encoded data removed]",
      "text/plain": [
       "<Figure size 432x288 with 2 Axes>"
      ]
     },
     "metadata": {
      "needs_background": "light"
     },
     "output_type": "display_data"
    }
   ],
   "source": [
    "sns.heatmap(df.corr())"
   ]
  },
  {
   "cell_type": "code",
   "execution_count": 20,
   "id": "e1a1d61b-3f64-41b1-9757-8ec888a7d7e0",
   "metadata": {},
   "outputs": [
    {
     "data": {
      "text/plain": [
       "<AxesSubplot:xlabel='Time', ylabel='Count'>"
      ]
     },
     "execution_count": 20,
     "metadata": {},
     "output_type": "execute_result"
    },
    {
     "data": {
      "image/png": "[encoded data removed]",
      "text/plain": [
       "<Figure size 432x288 with 1 Axes>"
      ]
     },
     "metadata": {
      "needs_background": "light"
     },
     "output_type": "display_data"
    }
   ],
   "source": [
    "sns.histplot(df, x = 'Time')"
   ]
  },
  {
   "cell_type": "code",
   "execution_count": 27,
   "id": "5b56b9db-0c02-43f9-a30b-cd957b910736",
   "metadata": {},
   "outputs": [
    {
     "data": {
      "text/plain": [
       "array([  60,   98,  239,  182, 1216, 1675,  131, 1466,  535,   85,   93,\n",
       "         54,  827,  311,  130, 1448, 1514,  596,  226,  553, 1682, 1651,\n",
       "        127,  538,  216,  640, 2420,  242,   42,  592,  615,  600,   92,\n",
       "        543,  849,  425,   82,  186, 1381, 1301, 1446,  429, 1050,  228,\n",
       "        752, 1481,  128,  116,  194,  215,  805, 2255,  244,  826,  742,\n",
       "        325,  776,  126,  181,  545,  246, 1132,  110,  470,   66,  210,\n",
       "       1084], dtype=int64)"
      ]
     },
     "execution_count": 27,
     "metadata": {},
     "output_type": "execute_result"
    }
   ],
   "source": [
    "df.Length.unique()"
   ]
  },
  {
   "cell_type": "code",
   "execution_count": 32,
   "id": "64407fd9-c182-4fa1-9dad-04a0948f14be",
   "metadata": {},
   "outputs": [
    {
     "data": {
      "text/html": [
       "<style type=\"text/css\">\n",
       "</style>\n",
       "<table id=\"T_7c7ff_\">\n",
       "  <thead>\n",
       "    <tr>\n",
       "      <th class=\"blank level0\" >&nbsp;</th>\n",
       "      <th class=\"col_heading level0 col0\" >str_length</th>\n",
       "    </tr>\n",
       "    <tr>\n",
       "      <th class=\"index_name level0\" >str_length</th>\n",
       "      <th class=\"blank col0\" >&nbsp;</th>\n",
       "    </tr>\n",
       "  </thead>\n",
       "  <tbody>\n",
       "    <tr>\n",
       "      <th id=\"T_7c7ff_level0_row0\" class=\"row_heading level0 row0\" >1050</th>\n",
       "      <td id=\"T_7c7ff_row0_col0\" class=\"data row0 col0\" >1</td>\n",
       "    </tr>\n",
       "    <tr>\n",
       "      <th id=\"T_7c7ff_level0_row1\" class=\"row_heading level0 row1\" >1084</th>\n",
       "      <td id=\"T_7c7ff_row1_col0\" class=\"data row1 col0\" >1</td>\n",
       "    </tr>\n",
       "    <tr>\n",
       "      <th id=\"T_7c7ff_level0_row2\" class=\"row_heading level0 row2\" >110</th>\n",
       "      <td id=\"T_7c7ff_row2_col0\" class=\"data row2 col0\" >3</td>\n",
       "    </tr>\n",
       "    <tr>\n",
       "      <th id=\"T_7c7ff_level0_row3\" class=\"row_heading level0 row3\" >1132</th>\n",
       "      <td id=\"T_7c7ff_row3_col0\" class=\"data row3 col0\" >1</td>\n",
       "    </tr>\n",
       "    <tr>\n",
       "      <th id=\"T_7c7ff_level0_row4\" class=\"row_heading level0 row4\" >116</th>\n",
       "      <td id=\"T_7c7ff_row4_col0\" class=\"data row4 col0\" >1</td>\n",
       "    </tr>\n",
       "    <tr>\n",
       "      <th id=\"T_7c7ff_level0_row5\" class=\"row_heading level0 row5\" >1216</th>\n",
       "      <td id=\"T_7c7ff_row5_col0\" class=\"data row5 col0\" >3</td>\n",
       "    </tr>\n",
       "    <tr>\n",
       "      <th id=\"T_7c7ff_level0_row6\" class=\"row_heading level0 row6\" >126</th>\n",
       "      <td id=\"T_7c7ff_row6_col0\" class=\"data row6 col0\" >1</td>\n",
       "    </tr>\n",
       "    <tr>\n",
       "      <th id=\"T_7c7ff_level0_row7\" class=\"row_heading level0 row7\" >127</th>\n",
       "      <td id=\"T_7c7ff_row7_col0\" class=\"data row7 col0\" >7</td>\n",
       "    </tr>\n",
       "    <tr>\n",
       "      <th id=\"T_7c7ff_level0_row8\" class=\"row_heading level0 row8\" >128</th>\n",
       "      <td id=\"T_7c7ff_row8_col0\" class=\"data row8 col0\" >1</td>\n",
       "    </tr>\n",
       "    <tr>\n",
       "      <th id=\"T_7c7ff_level0_row9\" class=\"row_heading level0 row9\" >130</th>\n",
       "      <td id=\"T_7c7ff_row9_col0\" class=\"data row9 col0\" >4</td>\n",
       "    </tr>\n",
       "    <tr>\n",
       "      <th id=\"T_7c7ff_level0_row10\" class=\"row_heading level0 row10\" >1301</th>\n",
       "      <td id=\"T_7c7ff_row10_col0\" class=\"data row10 col0\" >4</td>\n",
       "    </tr>\n",
       "    <tr>\n",
       "      <th id=\"T_7c7ff_level0_row11\" class=\"row_heading level0 row11\" >131</th>\n",
       "      <td id=\"T_7c7ff_row11_col0\" class=\"data row11 col0\" >2</td>\n",
       "    </tr>\n",
       "    <tr>\n",
       "      <th id=\"T_7c7ff_level0_row12\" class=\"row_heading level0 row12\" >1381</th>\n",
       "      <td id=\"T_7c7ff_row12_col0\" class=\"data row12 col0\" >4</td>\n",
       "    </tr>\n",
       "    <tr>\n",
       "      <th id=\"T_7c7ff_level0_row13\" class=\"row_heading level0 row13\" >1446</th>\n",
       "      <td id=\"T_7c7ff_row13_col0\" class=\"data row13 col0\" >2</td>\n",
       "    </tr>\n",
       "    <tr>\n",
       "      <th id=\"T_7c7ff_level0_row14\" class=\"row_heading level0 row14\" >1448</th>\n",
       "      <td id=\"T_7c7ff_row14_col0\" class=\"data row14 col0\" >12</td>\n",
       "    </tr>\n",
       "    <tr>\n",
       "      <th id=\"T_7c7ff_level0_row15\" class=\"row_heading level0 row15\" >1466</th>\n",
       "      <td id=\"T_7c7ff_row15_col0\" class=\"data row15 col0\" >13</td>\n",
       "    </tr>\n",
       "    <tr>\n",
       "      <th id=\"T_7c7ff_level0_row16\" class=\"row_heading level0 row16\" >1481</th>\n",
       "      <td id=\"T_7c7ff_row16_col0\" class=\"data row16 col0\" >1</td>\n",
       "    </tr>\n",
       "    <tr>\n",
       "      <th id=\"T_7c7ff_level0_row17\" class=\"row_heading level0 row17\" >1514</th>\n",
       "      <td id=\"T_7c7ff_row17_col0\" class=\"data row17 col0\" >2178</td>\n",
       "    </tr>\n",
       "    <tr>\n",
       "      <th id=\"T_7c7ff_level0_row18\" class=\"row_heading level0 row18\" >1651</th>\n",
       "      <td id=\"T_7c7ff_row18_col0\" class=\"data row18 col0\" >7</td>\n",
       "    </tr>\n",
       "    <tr>\n",
       "      <th id=\"T_7c7ff_level0_row19\" class=\"row_heading level0 row19\" >1675</th>\n",
       "      <td id=\"T_7c7ff_row19_col0\" class=\"data row19 col0\" >3</td>\n",
       "    </tr>\n",
       "    <tr>\n",
       "      <th id=\"T_7c7ff_level0_row20\" class=\"row_heading level0 row20\" >1682</th>\n",
       "      <td id=\"T_7c7ff_row20_col0\" class=\"data row20 col0\" >7</td>\n",
       "    </tr>\n",
       "    <tr>\n",
       "      <th id=\"T_7c7ff_level0_row21\" class=\"row_heading level0 row21\" >181</th>\n",
       "      <td id=\"T_7c7ff_row21_col0\" class=\"data row21 col0\" >2</td>\n",
       "    </tr>\n",
       "    <tr>\n",
       "      <th id=\"T_7c7ff_level0_row22\" class=\"row_heading level0 row22\" >182</th>\n",
       "      <td id=\"T_7c7ff_row22_col0\" class=\"data row22 col0\" >3</td>\n",
       "    </tr>\n",
       "    <tr>\n",
       "      <th id=\"T_7c7ff_level0_row23\" class=\"row_heading level0 row23\" >186</th>\n",
       "      <td id=\"T_7c7ff_row23_col0\" class=\"data row23 col0\" >1</td>\n",
       "    </tr>\n",
       "    <tr>\n",
       "      <th id=\"T_7c7ff_level0_row24\" class=\"row_heading level0 row24\" >194</th>\n",
       "      <td id=\"T_7c7ff_row24_col0\" class=\"data row24 col0\" >1</td>\n",
       "    </tr>\n",
       "    <tr>\n",
       "      <th id=\"T_7c7ff_level0_row25\" class=\"row_heading level0 row25\" >210</th>\n",
       "      <td id=\"T_7c7ff_row25_col0\" class=\"data row25 col0\" >1</td>\n",
       "    </tr>\n",
       "    <tr>\n",
       "      <th id=\"T_7c7ff_level0_row26\" class=\"row_heading level0 row26\" >215</th>\n",
       "      <td id=\"T_7c7ff_row26_col0\" class=\"data row26 col0\" >1</td>\n",
       "    </tr>\n",
       "    <tr>\n",
       "      <th id=\"T_7c7ff_level0_row27\" class=\"row_heading level0 row27\" >216</th>\n",
       "      <td id=\"T_7c7ff_row27_col0\" class=\"data row27 col0\" >1</td>\n",
       "    </tr>\n",
       "    <tr>\n",
       "      <th id=\"T_7c7ff_level0_row28\" class=\"row_heading level0 row28\" >2255</th>\n",
       "      <td id=\"T_7c7ff_row28_col0\" class=\"data row28 col0\" >1</td>\n",
       "    </tr>\n",
       "    <tr>\n",
       "      <th id=\"T_7c7ff_level0_row29\" class=\"row_heading level0 row29\" >226</th>\n",
       "      <td id=\"T_7c7ff_row29_col0\" class=\"data row29 col0\" >1</td>\n",
       "    </tr>\n",
       "    <tr>\n",
       "      <th id=\"T_7c7ff_level0_row30\" class=\"row_heading level0 row30\" >228</th>\n",
       "      <td id=\"T_7c7ff_row30_col0\" class=\"data row30 col0\" >1</td>\n",
       "    </tr>\n",
       "    <tr>\n",
       "      <th id=\"T_7c7ff_level0_row31\" class=\"row_heading level0 row31\" >239</th>\n",
       "      <td id=\"T_7c7ff_row31_col0\" class=\"data row31 col0\" >47</td>\n",
       "    </tr>\n",
       "    <tr>\n",
       "      <th id=\"T_7c7ff_level0_row32\" class=\"row_heading level0 row32\" >242</th>\n",
       "      <td id=\"T_7c7ff_row32_col0\" class=\"data row32 col0\" >1</td>\n",
       "    </tr>\n",
       "    <tr>\n",
       "      <th id=\"T_7c7ff_level0_row33\" class=\"row_heading level0 row33\" >2420</th>\n",
       "      <td id=\"T_7c7ff_row33_col0\" class=\"data row33 col0\" >1</td>\n",
       "    </tr>\n",
       "    <tr>\n",
       "      <th id=\"T_7c7ff_level0_row34\" class=\"row_heading level0 row34\" >244</th>\n",
       "      <td id=\"T_7c7ff_row34_col0\" class=\"data row34 col0\" >1</td>\n",
       "    </tr>\n",
       "    <tr>\n",
       "      <th id=\"T_7c7ff_level0_row35\" class=\"row_heading level0 row35\" >246</th>\n",
       "      <td id=\"T_7c7ff_row35_col0\" class=\"data row35 col0\" >1</td>\n",
       "    </tr>\n",
       "    <tr>\n",
       "      <th id=\"T_7c7ff_level0_row36\" class=\"row_heading level0 row36\" >311</th>\n",
       "      <td id=\"T_7c7ff_row36_col0\" class=\"data row36 col0\" >4</td>\n",
       "    </tr>\n",
       "    <tr>\n",
       "      <th id=\"T_7c7ff_level0_row37\" class=\"row_heading level0 row37\" >325</th>\n",
       "      <td id=\"T_7c7ff_row37_col0\" class=\"data row37 col0\" >1</td>\n",
       "    </tr>\n",
       "    <tr>\n",
       "      <th id=\"T_7c7ff_level0_row38\" class=\"row_heading level0 row38\" >42</th>\n",
       "      <td id=\"T_7c7ff_row38_col0\" class=\"data row38 col0\" >3240660</td>\n",
       "    </tr>\n",
       "    <tr>\n",
       "      <th id=\"T_7c7ff_level0_row39\" class=\"row_heading level0 row39\" >425</th>\n",
       "      <td id=\"T_7c7ff_row39_col0\" class=\"data row39 col0\" >1</td>\n",
       "    </tr>\n",
       "    <tr>\n",
       "      <th id=\"T_7c7ff_level0_row40\" class=\"row_heading level0 row40\" >429</th>\n",
       "      <td id=\"T_7c7ff_row40_col0\" class=\"data row40 col0\" >1</td>\n",
       "    </tr>\n",
       "    <tr>\n",
       "      <th id=\"T_7c7ff_level0_row41\" class=\"row_heading level0 row41\" >470</th>\n",
       "      <td id=\"T_7c7ff_row41_col0\" class=\"data row41 col0\" >1</td>\n",
       "    </tr>\n",
       "    <tr>\n",
       "      <th id=\"T_7c7ff_level0_row42\" class=\"row_heading level0 row42\" >535</th>\n",
       "      <td id=\"T_7c7ff_row42_col0\" class=\"data row42 col0\" >1</td>\n",
       "    </tr>\n",
       "    <tr>\n",
       "      <th id=\"T_7c7ff_level0_row43\" class=\"row_heading level0 row43\" >538</th>\n",
       "      <td id=\"T_7c7ff_row43_col0\" class=\"data row43 col0\" >1</td>\n",
       "    </tr>\n",
       "    <tr>\n",
       "      <th id=\"T_7c7ff_level0_row44\" class=\"row_heading level0 row44\" >54</th>\n",
       "      <td id=\"T_7c7ff_row44_col0\" class=\"data row44 col0\" >930</td>\n",
       "    </tr>\n",
       "    <tr>\n",
       "      <th id=\"T_7c7ff_level0_row45\" class=\"row_heading level0 row45\" >543</th>\n",
       "      <td id=\"T_7c7ff_row45_col0\" class=\"data row45 col0\" >3</td>\n",
       "    </tr>\n",
       "    <tr>\n",
       "      <th id=\"T_7c7ff_level0_row46\" class=\"row_heading level0 row46\" >545</th>\n",
       "      <td id=\"T_7c7ff_row46_col0\" class=\"data row46 col0\" >1</td>\n",
       "    </tr>\n",
       "    <tr>\n",
       "      <th id=\"T_7c7ff_level0_row47\" class=\"row_heading level0 row47\" >553</th>\n",
       "      <td id=\"T_7c7ff_row47_col0\" class=\"data row47 col0\" >1</td>\n",
       "    </tr>\n",
       "    <tr>\n",
       "      <th id=\"T_7c7ff_level0_row48\" class=\"row_heading level0 row48\" >592</th>\n",
       "      <td id=\"T_7c7ff_row48_col0\" class=\"data row48 col0\" >3</td>\n",
       "    </tr>\n",
       "    <tr>\n",
       "      <th id=\"T_7c7ff_level0_row49\" class=\"row_heading level0 row49\" >596</th>\n",
       "      <td id=\"T_7c7ff_row49_col0\" class=\"data row49 col0\" >13</td>\n",
       "    </tr>\n",
       "    <tr>\n",
       "      <th id=\"T_7c7ff_level0_row50\" class=\"row_heading level0 row50\" >60</th>\n",
       "      <td id=\"T_7c7ff_row50_col0\" class=\"data row50 col0\" >1079</td>\n",
       "    </tr>\n",
       "    <tr>\n",
       "      <th id=\"T_7c7ff_level0_row51\" class=\"row_heading level0 row51\" >600</th>\n",
       "      <td id=\"T_7c7ff_row51_col0\" class=\"data row51 col0\" >1</td>\n",
       "    </tr>\n",
       "    <tr>\n",
       "      <th id=\"T_7c7ff_level0_row52\" class=\"row_heading level0 row52\" >615</th>\n",
       "      <td id=\"T_7c7ff_row52_col0\" class=\"data row52 col0\" >1</td>\n",
       "    </tr>\n",
       "    <tr>\n",
       "      <th id=\"T_7c7ff_level0_row53\" class=\"row_heading level0 row53\" >640</th>\n",
       "      <td id=\"T_7c7ff_row53_col0\" class=\"data row53 col0\" >1</td>\n",
       "    </tr>\n",
       "    <tr>\n",
       "      <th id=\"T_7c7ff_level0_row54\" class=\"row_heading level0 row54\" >66</th>\n",
       "      <td id=\"T_7c7ff_row54_col0\" class=\"data row54 col0\" >1</td>\n",
       "    </tr>\n",
       "    <tr>\n",
       "      <th id=\"T_7c7ff_level0_row55\" class=\"row_heading level0 row55\" >742</th>\n",
       "      <td id=\"T_7c7ff_row55_col0\" class=\"data row55 col0\" >1</td>\n",
       "    </tr>\n",
       "    <tr>\n",
       "      <th id=\"T_7c7ff_level0_row56\" class=\"row_heading level0 row56\" >752</th>\n",
       "      <td id=\"T_7c7ff_row56_col0\" class=\"data row56 col0\" >1</td>\n",
       "    </tr>\n",
       "    <tr>\n",
       "      <th id=\"T_7c7ff_level0_row57\" class=\"row_heading level0 row57\" >776</th>\n",
       "      <td id=\"T_7c7ff_row57_col0\" class=\"data row57 col0\" >1</td>\n",
       "    </tr>\n",
       "    <tr>\n",
       "      <th id=\"T_7c7ff_level0_row58\" class=\"row_heading level0 row58\" >805</th>\n",
       "      <td id=\"T_7c7ff_row58_col0\" class=\"data row58 col0\" >1</td>\n",
       "    </tr>\n",
       "    <tr>\n",
       "      <th id=\"T_7c7ff_level0_row59\" class=\"row_heading level0 row59\" >82</th>\n",
       "      <td id=\"T_7c7ff_row59_col0\" class=\"data row59 col0\" >1</td>\n",
       "    </tr>\n",
       "    <tr>\n",
       "      <th id=\"T_7c7ff_level0_row60\" class=\"row_heading level0 row60\" >826</th>\n",
       "      <td id=\"T_7c7ff_row60_col0\" class=\"data row60 col0\" >1</td>\n",
       "    </tr>\n",
       "    <tr>\n",
       "      <th id=\"T_7c7ff_level0_row61\" class=\"row_heading level0 row61\" >827</th>\n",
       "      <td id=\"T_7c7ff_row61_col0\" class=\"data row61 col0\" >1</td>\n",
       "    </tr>\n",
       "    <tr>\n",
       "      <th id=\"T_7c7ff_level0_row62\" class=\"row_heading level0 row62\" >849</th>\n",
       "      <td id=\"T_7c7ff_row62_col0\" class=\"data row62 col0\" >1</td>\n",
       "    </tr>\n",
       "    <tr>\n",
       "      <th id=\"T_7c7ff_level0_row63\" class=\"row_heading level0 row63\" >85</th>\n",
       "      <td id=\"T_7c7ff_row63_col0\" class=\"data row63 col0\" >15</td>\n",
       "    </tr>\n",
       "    <tr>\n",
       "      <th id=\"T_7c7ff_level0_row64\" class=\"row_heading level0 row64\" >92</th>\n",
       "      <td id=\"T_7c7ff_row64_col0\" class=\"data row64 col0\" >50</td>\n",
       "    </tr>\n",
       "    <tr>\n",
       "      <th id=\"T_7c7ff_level0_row65\" class=\"row_heading level0 row65\" >93</th>\n",
       "      <td id=\"T_7c7ff_row65_col0\" class=\"data row65 col0\" >30</td>\n",
       "    </tr>\n",
       "    <tr>\n",
       "      <th id=\"T_7c7ff_level0_row66\" class=\"row_heading level0 row66\" >98</th>\n",
       "      <td id=\"T_7c7ff_row66_col0\" class=\"data row66 col0\" >53</td>\n",
       "    </tr>\n",
       "  </tbody>\n",
       "</table>\n"
      ],
      "text/plain": [
       "<pandas.io.formats.style.Styler at 0x21a09ce1ac0>"
      ]
     },
     "execution_count": 32,
     "metadata": {},
     "output_type": "execute_result"
    }
   ],
   "source": [
    "df['str_length'] = df.Length.astype(str)\n",
    "\n",
    "pd.DataFrame(df.groupby('str_length').str_length.count()).style"
   ]
  },
  {
   "cell_type": "markdown",
   "id": "ec6e246e-9898-4ff2-82bf-87d0dd9ebda5",
   "metadata": {},
   "source": [
    "the string length is nearly always 42"
   ]
  },
  {
   "cell_type": "code",
   "execution_count": 26,
   "id": "154cdfd0-55b9-4bbb-b368-79eeb3a63482",
   "metadata": {},
   "outputs": [
    {
     "data": {
      "text/plain": [
       "(-1.0, 150.0)"
      ]
     },
     "execution_count": 26,
     "metadata": {},
     "output_type": "execute_result"
    },
    {
     "data": {
      "image/png": "[encoded data removed]",
      "text/plain": [
       "<Figure size 432x288 with 1 Axes>"
      ]
     },
     "metadata": {
      "needs_background": "light"
     },
     "output_type": "display_data"
    }
   ],
   "source": [
    "fig, ax = plt.subplots()\n",
    "sns.histplot(df, \n",
    "             x = 'Length',\n",
    "            binwidth = 1\n",
    "            )\n",
    "plt.xlim(-1, 150)"
   ]
  },
  {
   "cell_type": "code",
   "execution_count": 7,
   "id": "46259592-112e-4666-bb20-f568717fb5c3",
   "metadata": {},
   "outputs": [
    {
     "data": {
      "text/plain": [
       "array([   nan,   138., 49734.,   443., 57914., 57912.,   137.])"
      ]
     },
     "execution_count": 7,
     "metadata": {},
     "output_type": "execute_result"
    }
   ],
   "source": [
    "df['Source Port'].unique()"
   ]
  },
  {
   "cell_type": "code",
   "execution_count": 11,
   "id": "342a562c-9192-441e-a78b-d2a2f956a7e7",
   "metadata": {},
   "outputs": [],
   "source": [
    "encoded_df = pd.get_dummies(df)"
   ]
  },
  {
   "cell_type": "code",
   "execution_count": 13,
   "id": "49e73d54-af6c-44d1-8276-bce0744b83d6",
   "metadata": {},
   "outputs": [
    {
     "data": {
      "text/plain": [
       "(3245180, 49)"
      ]
     },
     "execution_count": 13,
     "metadata": {},
     "output_type": "execute_result"
    }
   ],
   "source": [
    "encoded_df.shape"
   ]
  },
  {
   "cell_type": "markdown",
   "id": "d517611a-e7fa-47f9-98ea-917797bef0fe",
   "metadata": {},
   "source": [
    "---"
   ]
  },
  {
   "cell_type": "markdown",
   "id": "f894db69-3a84-45c0-93da-39c1f9fcb499",
   "metadata": {},
   "source": [
    "### random forest classifier"
   ]
  },
  {
   "cell_type": "code",
   "execution_count": null,
   "id": "7e53ef1a-0789-43ca-9108-b02749380ac5",
   "metadata": {},
   "outputs": [],
   "source": []
  },
  {
   "cell_type": "code",
   "execution_count": null,
   "id": "b661d475-6e23-40b1-90b3-15aa87906d04",
   "metadata": {},
   "outputs": [],
   "source": []
  }
 ],
 "metadata": {
  "kernelspec": {
   "display_name": "Python 3 (ipykernel)",
   "language": "python",
   "name": "python3"
  },
  "language_info": {
   "codemirror_mode": {
    "name": "ipython",
    "version": 3
   },
   "file_extension": ".py",
   "mimetype": "text/x-python",
   "name": "python",
   "nbconvert_exporter": "python",
   "pygments_lexer": "ipython3",
   "version": "3.9.7"
  }
 },
 "nbformat": 4,
 "nbformat_minor": 5
}
