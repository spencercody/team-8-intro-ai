{
 "cells": [
  {
   "cell_type": "markdown",
   "id": "2d68a0e6-ff9e-43fa-a614-62b3f9179ef2",
   "metadata": {},
   "source": [
    "#### imports"
   ]
  },
  {
   "cell_type": "code",
   "execution_count": 1,
   "id": "68390098-e141-4c7b-95d1-9644582d5223",
   "metadata": {},
   "outputs": [],
   "source": [
    "import pandas as pd\n",
    "import numpy as np\n",
    "import seaborn as sns\n",
    "import matplotlib.pyplot as plt\n"
   ]
  },
  {
   "cell_type": "markdown",
   "id": "da09fc23-b6b1-406d-bb3a-6e74fdf85831",
   "metadata": {},
   "source": [
    "---"
   ]
  },
  {
   "cell_type": "markdown",
   "id": "31575bab-4be6-4906-b86c-a84cebf49d90",
   "metadata": {},
   "source": [
    "#### data\n",
    "https://www.kaggle.com/datasets/advaitnmenon/network-traffic-data-malicious-activity-detection"
   ]
  },
  {
   "cell_type": "markdown",
   "id": "3860d932-ec74-4e96-a537-e07f86031639",
   "metadata": {},
   "source": [
    "---"
   ]
  },
  {
   "cell_type": "code",
   "execution_count": null,
   "id": "29fa653f-7ec3-417e-b26a-7903ac038fbc",
   "metadata": {},
   "outputs": [],
   "source": []
  }
 ],
 "metadata": {
  "kernelspec": {
   "display_name": "Python 3 (ipykernel)",
   "language": "python",
   "name": "python3"
  },
  "language_info": {
   "codemirror_mode": {
    "name": "ipython",
    "version": 3
   },
   "file_extension": ".py",
   "mimetype": "text/x-python",
   "name": "python",
   "nbconvert_exporter": "python",
   "pygments_lexer": "ipython3",
   "version": "3.9.7"
  }
 },
 "nbformat": 4,
 "nbformat_minor": 5
}
