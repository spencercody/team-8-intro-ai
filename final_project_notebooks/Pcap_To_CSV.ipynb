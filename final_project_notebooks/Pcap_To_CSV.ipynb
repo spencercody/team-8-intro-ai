{
  "nbformat": 4,
  "nbformat_minor": 0,
  "metadata": {
    "colab": {
      "provenance": [],
      "gpuType": "T4"
    },
    "kernelspec": {
      "name": "python3",
      "display_name": "Python 3"
    },
    "language_info": {
      "name": "python"
    }
  },
  "cells": [
    {
      "cell_type": "code",
      "execution_count": null,
      "metadata": {
        "colab": {
          "base_uri": "https://localhost:8080/"
        },
        "id": "kdYyeunZqe1D",
        "outputId": "9426810f-3e30-4004-9d30-c773fb27cef1"
      },
      "outputs": [
        {
          "output_type": "stream",
          "name": "stdout",
          "text": [
            "Requirement already satisfied: scapy in /usr/local/lib/python3.11/dist-packages (2.6.1)\n"
          ]
        }
      ],
      "source": [
        "# install scapy and associated packages\n",
        "import sys\n",
        "import os\n",
        "import gc\n",
        "import pandas as pd\n",
        "!pip install scapy\n",
        "from scapy.all import hexdump\n",
        "import scapy.utils"
      ]
    },
    {
      "cell_type": "code",
      "source": [
        "# list pcap files available in the folder\n",
        "files = [f for f in os.listdir(\"/content/drive/MyDrive/Colab Notebooks/Working Data\") if f.endswith(\".pcap\")]\n",
        "print(list(files))"
      ],
      "metadata": {
        "colab": {
          "base_uri": "https://localhost:8080/"
        },
        "id": "ntuoHdML1een",
        "outputId": "3e57beef-fc4b-4b7b-f5c4-b6454b06172e"
      },
      "execution_count": null,
      "outputs": [
        {
          "output_type": "stream",
          "name": "stdout",
          "text": [
            "['Copy of Malware_8.pcap']\n"
          ]
        }
      ]
    },
    {
      "cell_type": "code",
      "source": [
        "# loop that goes through all pcap files in the folder and exports .csv files\n",
        "for file in files:\n",
        "  no_pcap = file.split(\".\")\n",
        "  file_name = \"/content/drive/MyDrive/Colab Notebooks/Working Data/\" + file\n",
        "  savefile_name = \"/content/drive/MyDrive/Colab Notebooks/Working Data/\" + no_pcap[0] + \"_Hexdump.csv\"\n",
        "  # switched to pcapreader to reduce memory requirements\n",
        "  a = scapy.utils.PcapReader(file_name)\n",
        "  # create two empty arrays\n",
        "  b = []\n",
        "  c = []\n",
        "  # iterate through a and pull both packet time and overall header hexdump\n",
        "  for packet in a:\n",
        "    b.append(hexdump(packet,dump=True))\n",
        "    c.append(packet.time)\n",
        "  # create empty pandas dataframe\n",
        "  df = pd.DataFrame()\n",
        "  # add both arrays as columns to the dataframe\n",
        "  df['epoch_time'] = c\n",
        "  df['hexdump'] = b\n",
        "  # export the dataframe to a csv file and notify the user\n",
        "  df.to_csv(savefile_name)\n",
        "  print(\"Completed exporting \" + savefile_name)\n",
        "  # calculates and displays the memory usage of the largest variables\n",
        "  totalmem = str((sys.getsizeof(df) + sys.getsizeof(a) + sys.getsizeof(b) + sys.getsizeof(c))/1000000)\n",
        "  print(\"Total Memory Occupied: \" + totalmem + \"MB\")\n",
        "  # clear memory of large variables before next iteration\n",
        "  del a, df, b, c\n",
        "  gc.collect()"
      ],
      "metadata": {
        "colab": {
          "base_uri": "https://localhost:8080/"
        },
        "id": "rFMCNjRrq2TS",
        "outputId": "8438fd2d-7bbf-46df-ab81-fafb416c18b4"
      },
      "execution_count": null,
      "outputs": [
        {
          "output_type": "stream",
          "name": "stdout",
          "text": [
            "Completed exporting /content/drive/MyDrive/Colab Notebooks/Working Data/Copy of Malware_8_Hexdump.csv\n",
            "Total Memory Occupied: 13.492318MB\n"
          ]
        }
      ]
    },
    {
      "cell_type": "code",
      "source": [],
      "metadata": {
        "id": "I22yhdB4Lmi-"
      },
      "execution_count": null,
      "outputs": []
    }
  ]
}